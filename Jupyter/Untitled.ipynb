{
 "cells": [
  {
   "cell_type": "code",
   "execution_count": 1,
   "metadata": {},
   "outputs": [
    {
     "name": "stdout",
     "output_type": "stream",
     "text": [
      "(1, 2, 3, 4, 5, 6, 'df', 'sf', 'dgdf', 354)\n"
     ]
    }
   ],
   "source": [
    "a = (1,2,3,4,5,6,'df')\n",
    "b = ('sf','dgdf',354)\n",
    "print(a + b)"
   ]
  },
  {
   "cell_type": "code",
   "execution_count": 2,
   "metadata": {},
   "outputs": [
    {
     "name": "stdout",
     "output_type": "stream",
     "text": [
      "[1, 2, 3, 4, 5, 6, 'df', 'sf', 'dgdf', 354]\n"
     ]
    }
   ],
   "source": [
    "a = [1,2,3,4,5,6,'df']\n",
    "b = ['sf','dgdf',354]\n",
    "print(a + b)"
   ]
  },
  {
   "cell_type": "code",
   "execution_count": 1,
   "metadata": {},
   "outputs": [
    {
     "name": "stdout",
     "output_type": "stream",
     "text": [
      "True\n"
     ]
    }
   ],
   "source": [
    "tuples = (20,30)\n",
    "print(20 in tuples)"
   ]
  },
  {
   "cell_type": "code",
   "execution_count": 2,
   "metadata": {},
   "outputs": [
    {
     "name": "stdout",
     "output_type": "stream",
     "text": [
      "True\n"
     ]
    }
   ],
   "source": [
    "print(21 not in tuples)"
   ]
  },
  {
   "cell_type": "code",
   "execution_count": 3,
   "metadata": {},
   "outputs": [
    {
     "name": "stdout",
     "output_type": "stream",
     "text": [
      "30\n"
     ]
    }
   ],
   "source": [
    "print(max(tuples))"
   ]
  },
  {
   "cell_type": "code",
   "execution_count": 4,
   "metadata": {},
   "outputs": [
    {
     "name": "stdout",
     "output_type": "stream",
     "text": [
      "20\n"
     ]
    }
   ],
   "source": [
    "print(min(tuples))"
   ]
  },
  {
   "cell_type": "code",
   "execution_count": 5,
   "metadata": {},
   "outputs": [
    {
     "name": "stdout",
     "output_type": "stream",
     "text": [
      "2\n"
     ]
    }
   ],
   "source": [
    "print(len(tuples))"
   ]
  },
  {
   "cell_type": "code",
   "execution_count": 6,
   "metadata": {},
   "outputs": [
    {
     "name": "stdout",
     "output_type": "stream",
     "text": [
      "(10, 20, 30)\n"
     ]
    }
   ],
   "source": [
    "vals = 10,20,30\n",
    "print(vals)"
   ]
  },
  {
   "cell_type": "code",
   "execution_count": 7,
   "metadata": {},
   "outputs": [
    {
     "name": "stdout",
     "output_type": "stream",
     "text": [
      "10\n"
     ]
    }
   ],
   "source": [
    "a,b,c = vals\n",
    "print(a)"
   ]
  },
  {
   "cell_type": "code",
   "execution_count": 8,
   "metadata": {},
   "outputs": [
    {
     "name": "stdout",
     "output_type": "stream",
     "text": [
      "10 20 30\n"
     ]
    }
   ],
   "source": [
    "print(a,b,c)"
   ]
  },
  {
   "cell_type": "code",
   "execution_count": 9,
   "metadata": {},
   "outputs": [
    {
     "name": "stdout",
     "output_type": "stream",
     "text": [
      "10 30 20\n"
     ]
    }
   ],
   "source": [
    "a,b,c = 10,20,30\n",
    "print(a,c,b)"
   ]
  },
  {
   "cell_type": "code",
   "execution_count": 10,
   "metadata": {},
   "outputs": [
    {
     "name": "stdout",
     "output_type": "stream",
     "text": [
      "20 10\n"
     ]
    }
   ],
   "source": [
    "a,b = b,a\n",
    "print(a,b)"
   ]
  },
  {
   "cell_type": "code",
   "execution_count": 11,
   "metadata": {},
   "outputs": [
    {
     "name": "stdout",
     "output_type": "stream",
     "text": [
      "1 2 [3, 4, 5, 6]\n"
     ]
    }
   ],
   "source": [
    "li = [1,2,3,4,5,6]\n",
    "a,b,*c = li\n",
    "print(a,b,c)"
   ]
  },
  {
   "cell_type": "code",
   "execution_count": 12,
   "metadata": {},
   "outputs": [
    {
     "name": "stdout",
     "output_type": "stream",
     "text": [
      "0 1 [2, 3, 4, 5]\n"
     ]
    }
   ],
   "source": [
    "a,b,*c = range(6)\n",
    "print(a,b,c)"
   ]
  },
  {
   "cell_type": "code",
   "execution_count": 13,
   "metadata": {},
   "outputs": [
    {
     "name": "stdout",
     "output_type": "stream",
     "text": [
      "[0, 1, 2, 3, 4, 5, 6, 7] 8 9\n"
     ]
    }
   ],
   "source": [
    "*b,c,d = range(10)\n",
    "print(b,c,d)"
   ]
  },
  {
   "cell_type": "code",
   "execution_count": null,
   "metadata": {},
   "outputs": [],
   "source": []
  },
  {
   "cell_type": "code",
   "execution_count": 14,
   "metadata": {},
   "outputs": [
    {
     "name": "stdout",
     "output_type": "stream",
     "text": [
      "0 [1, 2, 3, 4, 5, 6, 7, 8] 9\n"
     ]
    }
   ],
   "source": [
    "f,*c,d = range(10)\n",
    "print(f,c,d)"
   ]
  },
  {
   "cell_type": "code",
   "execution_count": 15,
   "metadata": {},
   "outputs": [
    {
     "name": "stdout",
     "output_type": "stream",
     "text": [
      "range(1, 5)\n"
     ]
    }
   ],
   "source": [
    "print(range(1,5))"
   ]
  },
  {
   "cell_type": "code",
   "execution_count": 16,
   "metadata": {},
   "outputs": [
    {
     "name": "stdout",
     "output_type": "stream",
     "text": [
      "range(1, 5)\n"
     ]
    }
   ],
   "source": [
    "a = range(1,5)\n",
    "print(a)"
   ]
  },
  {
   "cell_type": "code",
   "execution_count": 17,
   "metadata": {},
   "outputs": [
    {
     "ename": "SyntaxError",
     "evalue": "starred assignment target must be in a list or tuple (<ipython-input-17-e8a711bf79ee>, line 4)",
     "output_type": "error",
     "traceback": [
      "\u001b[0;36m  File \u001b[0;32m\"<ipython-input-17-e8a711bf79ee>\"\u001b[0;36m, line \u001b[0;32m4\u001b[0m\n\u001b[0;31mSyntaxError\u001b[0m\u001b[0;31m:\u001b[0m starred assignment target must be in a list or tuple\n"
     ]
    }
   ],
   "source": [
    "*a = range(1,6)"
   ]
  },
  {
   "cell_type": "code",
   "execution_count": 18,
   "metadata": {},
   "outputs": [],
   "source": [
    "c_list = list(range(1,10,3))"
   ]
  },
  {
   "cell_type": "code",
   "execution_count": 19,
   "metadata": {},
   "outputs": [
    {
     "name": "stdout",
     "output_type": "stream",
     "text": [
      "[1, 4, 7]\n"
     ]
    }
   ],
   "source": [
    "print(c_list)"
   ]
  },
  {
   "cell_type": "code",
   "execution_count": 20,
   "metadata": {},
   "outputs": [
    {
     "name": "stdout",
     "output_type": "stream",
     "text": [
      "[1, 2, 3, 4, 5, 6, 7, 8, 9]\n"
     ]
    }
   ],
   "source": [
    "d_list = list(range(1,10))\n",
    "print(d_list)"
   ]
  },
  {
   "cell_type": "code",
   "execution_count": null,
   "metadata": {},
   "outputs": [],
   "source": []
  },
  {
   "cell_type": "code",
   "execution_count": null,
   "metadata": {},
   "outputs": [],
   "source": []
  },
  {
   "cell_type": "code",
   "execution_count": null,
   "metadata": {},
   "outputs": [],
   "source": []
  },
  {
   "cell_type": "code",
   "execution_count": 21,
   "metadata": {},
   "outputs": [
    {
     "name": "stdout",
     "output_type": "stream",
     "text": [
      "[1, 2, 3, 4, 5, 6, 7, 8, 9, 10]\n"
     ]
    }
   ],
   "source": [
    "d_list.append(10)\n",
    "print(d_list)"
   ]
  },
  {
   "cell_type": "code",
   "execution_count": 22,
   "metadata": {},
   "outputs": [
    {
     "name": "stdout",
     "output_type": "stream",
     "text": [
      "[1, 2, 3, 4, 5, 6, 7, 8, 9, 10, 1, 4, 7]\n"
     ]
    }
   ],
   "source": [
    "d_list.extend(c_list)\n",
    "print(d_list)"
   ]
  },
  {
   "cell_type": "code",
   "execution_count": 23,
   "metadata": {},
   "outputs": [
    {
     "name": "stdout",
     "output_type": "stream",
     "text": [
      "[1, 2, 2.5, 3, 4, 5, 6, 7, 8, 9, 10, 1, 4, 7]\n"
     ]
    }
   ],
   "source": [
    "d_list.insert(2,2.5)\n",
    "print(d_list)"
   ]
  },
  {
   "cell_type": "code",
   "execution_count": 24,
   "metadata": {},
   "outputs": [
    {
     "name": "stdout",
     "output_type": "stream",
     "text": [
      "[1, 2, 3, 4, 5, 6, 7, 8, 9, 10, 1, 4, 7]\n"
     ]
    }
   ],
   "source": [
    "del d_list[2]\n",
    "print(d_list)"
   ]
  },
  {
   "cell_type": "code",
   "execution_count": 25,
   "metadata": {},
   "outputs": [
    {
     "ename": "NameError",
     "evalue": "name 'c_lsit' is not defined",
     "output_type": "error",
     "traceback": [
      "\u001b[0;31m---------------------------------------------------------------------------\u001b[0m",
      "\u001b[0;31mNameError\u001b[0m                                 Traceback (most recent call last)",
      "\u001b[0;32m<ipython-input-25-e90087554997>\u001b[0m in \u001b[0;36m<module>\u001b[0;34m\u001b[0m\n\u001b[1;32m      1\u001b[0m \u001b[0;32mdel\u001b[0m \u001b[0mc_list\u001b[0m\u001b[0;34m\u001b[0m\u001b[0;34m\u001b[0m\u001b[0m\n\u001b[0;32m----> 2\u001b[0;31m \u001b[0mprint\u001b[0m\u001b[0;34m(\u001b[0m\u001b[0mc_lsit\u001b[0m\u001b[0;34m)\u001b[0m\u001b[0;34m\u001b[0m\u001b[0;34m\u001b[0m\u001b[0m\n\u001b[0m",
      "\u001b[0;31mNameError\u001b[0m: name 'c_lsit' is not defined"
     ]
    }
   ],
   "source": [
    "del c_list\n",
    "print(c_lsit)"
   ]
  },
  {
   "cell_type": "code",
   "execution_count": 26,
   "metadata": {},
   "outputs": [
    {
     "name": "stdout",
     "output_type": "stream",
     "text": [
      "[1, 2, 3, 4, 5, 6, 7, 8, 9, 10, 1, 4, 7]\n"
     ]
    }
   ],
   "source": [
    "print(d_list)"
   ]
  },
  {
   "cell_type": "code",
   "execution_count": 27,
   "metadata": {},
   "outputs": [
    {
     "name": "stdout",
     "output_type": "stream",
     "text": [
      "[1, 'a', 'b', 4, 5, 6, 7, 8, 9, 10, 1, 4, 7]\n"
     ]
    }
   ],
   "source": [
    "d_list[1:3] = ['a','b']\n",
    "print(d_list)"
   ]
  },
  {
   "cell_type": "code",
   "execution_count": 28,
   "metadata": {},
   "outputs": [
    {
     "name": "stdout",
     "output_type": "stream",
     "text": [
      "[1, '1', '2', '3', 5, 6, 7, 8, 9, 10, 1, 4, 7]\n"
     ]
    }
   ],
   "source": [
    "d_list[1:4] = ['1','2','3']\n",
    "print(d_list)"
   ]
  },
  {
   "cell_type": "code",
   "execution_count": 29,
   "metadata": {},
   "outputs": [
    {
     "ename": "NameError",
     "evalue": "name 'd_lsit' is not defined",
     "output_type": "error",
     "traceback": [
      "\u001b[0;31m---------------------------------------------------------------------------\u001b[0m",
      "\u001b[0;31mNameError\u001b[0m                                 Traceback (most recent call last)",
      "\u001b[0;32m<ipython-input-29-889857b48cbd>\u001b[0m in \u001b[0;36m<module>\u001b[0;34m\u001b[0m\n\u001b[1;32m      1\u001b[0m \u001b[0md_list\u001b[0m\u001b[0;34m[\u001b[0m\u001b[0;36m1\u001b[0m\u001b[0;34m:\u001b[0m\u001b[0;36m3\u001b[0m\u001b[0;34m]\u001b[0m \u001b[0;34m=\u001b[0m \u001b[0;34m[\u001b[0m\u001b[0;34m'1'\u001b[0m\u001b[0;34m,\u001b[0m\u001b[0;34m'2'\u001b[0m\u001b[0;34m]\u001b[0m\u001b[0;34m\u001b[0m\u001b[0;34m\u001b[0m\u001b[0m\n\u001b[0;32m----> 2\u001b[0;31m \u001b[0mprint\u001b[0m\u001b[0;34m(\u001b[0m\u001b[0md_lsit\u001b[0m\u001b[0;34m)\u001b[0m\u001b[0;34m\u001b[0m\u001b[0;34m\u001b[0m\u001b[0m\n\u001b[0m",
      "\u001b[0;31mNameError\u001b[0m: name 'd_lsit' is not defined"
     ]
    }
   ],
   "source": [
    "d_list[1:3] = ['1','2']\n",
    "print(d_lsit)"
   ]
  },
  {
   "cell_type": "code",
   "execution_count": null,
   "metadata": {},
   "outputs": [],
   "source": []
  },
  {
   "cell_type": "code",
   "execution_count": 30,
   "metadata": {},
   "outputs": [
    {
     "ename": "NameError",
     "evalue": "name 'd_lisst' is not defined",
     "output_type": "error",
     "traceback": [
      "\u001b[0;31m---------------------------------------------------------------------------\u001b[0m",
      "\u001b[0;31mNameError\u001b[0m                                 Traceback (most recent call last)",
      "\u001b[0;32m<ipython-input-30-99388bb5d7ee>\u001b[0m in \u001b[0;36m<module>\u001b[0;34m\u001b[0m\n\u001b[0;32m----> 1\u001b[0;31m \u001b[0mprint\u001b[0m\u001b[0;34m(\u001b[0m\u001b[0md_lisst\u001b[0m\u001b[0;34m.\u001b[0m\u001b[0mcount\u001b[0m\u001b[0;34m(\u001b[0m\u001b[0;36m1\u001b[0m\u001b[0;34m)\u001b[0m\u001b[0;34m)\u001b[0m\u001b[0;34m\u001b[0m\u001b[0;34m\u001b[0m\u001b[0m\n\u001b[0m",
      "\u001b[0;31mNameError\u001b[0m: name 'd_lisst' is not defined"
     ]
    }
   ],
   "source": [
    "print(d_lisst.count(1))"
   ]
  },
  {
   "cell_type": "code",
   "execution_count": 31,
   "metadata": {},
   "outputs": [
    {
     "name": "stdout",
     "output_type": "stream",
     "text": [
      "2\n"
     ]
    }
   ],
   "source": [
    "print(d_list.count(1))"
   ]
  },
  {
   "cell_type": "code",
   "execution_count": 32,
   "metadata": {},
   "outputs": [
    {
     "name": "stdout",
     "output_type": "stream",
     "text": [
      "[1, '1', '2', '3', 5, 6, 7, 8, 9, 10, 1, 4]\n"
     ]
    }
   ],
   "source": [
    "d_list.pop()\n",
    "print(d_list)"
   ]
  },
  {
   "cell_type": "code",
   "execution_count": 33,
   "metadata": {},
   "outputs": [
    {
     "name": "stdout",
     "output_type": "stream",
     "text": [
      "[4, 1, 10, 9, 8, 7, 6, 5, '3', '2', '1', 1]\n"
     ]
    }
   ],
   "source": [
    "d_list.reverse()\n",
    "print(d_list)"
   ]
  },
  {
   "cell_type": "code",
   "execution_count": 34,
   "metadata": {},
   "outputs": [
    {
     "ename": "TypeError",
     "evalue": "'<' not supported between instances of 'str' and 'int'",
     "output_type": "error",
     "traceback": [
      "\u001b[0;31m---------------------------------------------------------------------------\u001b[0m",
      "\u001b[0;31mTypeError\u001b[0m                                 Traceback (most recent call last)",
      "\u001b[0;32m<ipython-input-34-c9358de1b079>\u001b[0m in \u001b[0;36m<module>\u001b[0;34m\u001b[0m\n\u001b[0;32m----> 1\u001b[0;31m \u001b[0md_list\u001b[0m\u001b[0;34m.\u001b[0m\u001b[0msort\u001b[0m\u001b[0;34m(\u001b[0m\u001b[0;34m)\u001b[0m\u001b[0;34m\u001b[0m\u001b[0;34m\u001b[0m\u001b[0m\n\u001b[0m\u001b[1;32m      2\u001b[0m \u001b[0mprint\u001b[0m\u001b[0;34m(\u001b[0m\u001b[0md_list\u001b[0m\u001b[0;34m)\u001b[0m\u001b[0;34m\u001b[0m\u001b[0;34m\u001b[0m\u001b[0m\n",
      "\u001b[0;31mTypeError\u001b[0m: '<' not supported between instances of 'str' and 'int'"
     ]
    }
   ],
   "source": [
    "d_list.sort()\n",
    "print(d_list)"
   ]
  },
  {
   "cell_type": "code",
   "execution_count": 35,
   "metadata": {},
   "outputs": [
    {
     "name": "stdout",
     "output_type": "stream",
     "text": [
      "[1, 6, 7, 8, 9, 10, '3', '2', '1', 1]\n"
     ]
    }
   ],
   "source": [
    "d_list[1:3] = []\n",
    "print(d_list)"
   ]
  },
  {
   "cell_type": "code",
   "execution_count": 36,
   "metadata": {},
   "outputs": [
    {
     "name": "stdout",
     "output_type": "stream",
     "text": [
      "[1, 2, 3, 4, 5, 6, 7, 8, 9, 10]\n"
     ]
    }
   ],
   "source": [
    "d_list = list(range(1,11))\n",
    "print(d_list)"
   ]
  },
  {
   "cell_type": "code",
   "execution_count": 37,
   "metadata": {},
   "outputs": [
    {
     "name": "stdout",
     "output_type": "stream",
     "text": [
      "[1, 2, 3, 4, 5, 6, 7, 8, 9, 10]\n"
     ]
    }
   ],
   "source": [
    "d_list.reverse()\n",
    "d_list.sort()\n",
    "print(d_list)"
   ]
  },
  {
   "cell_type": "code",
   "execution_count": 38,
   "metadata": {},
   "outputs": [
    {
     "ename": "TypeError",
     "evalue": "sort() takes no positional arguments",
     "output_type": "error",
     "traceback": [
      "\u001b[0;31m---------------------------------------------------------------------------\u001b[0m",
      "\u001b[0;31mTypeError\u001b[0m                                 Traceback (most recent call last)",
      "\u001b[0;32m<ipython-input-38-2987b51bfe3e>\u001b[0m in \u001b[0;36m<module>\u001b[0;34m\u001b[0m\n\u001b[1;32m      1\u001b[0m \u001b[0;32mdef\u001b[0m \u001b[0mcmp\u001b[0m\u001b[0;34m(\u001b[0m\u001b[0mx\u001b[0m\u001b[0;34m,\u001b[0m\u001b[0my\u001b[0m\u001b[0;34m)\u001b[0m\u001b[0;34m:\u001b[0m\u001b[0;34m\u001b[0m\u001b[0;34m\u001b[0m\u001b[0m\n\u001b[1;32m      2\u001b[0m     \u001b[0;32mreturn\u001b[0m \u001b[0mtrue\u001b[0m \u001b[0;32mif\u001b[0m \u001b[0mx\u001b[0m \u001b[0;34m>\u001b[0m \u001b[0my\u001b[0m \u001b[0;32melse\u001b[0m \u001b[0mfalse\u001b[0m\u001b[0;34m\u001b[0m\u001b[0;34m\u001b[0m\u001b[0m\n\u001b[0;32m----> 3\u001b[0;31m \u001b[0md_list\u001b[0m\u001b[0;34m.\u001b[0m\u001b[0msort\u001b[0m\u001b[0;34m(\u001b[0m\u001b[0mcmp\u001b[0m\u001b[0;34m)\u001b[0m\u001b[0;34m\u001b[0m\u001b[0;34m\u001b[0m\u001b[0m\n\u001b[0m",
      "\u001b[0;31mTypeError\u001b[0m: sort() takes no positional arguments"
     ]
    }
   ],
   "source": [
    "def cmp(x,y):\n",
    "    return True if x > y else False\n",
    "d_list.sort(cmp)"
   ]
  },
  {
   "cell_type": "code",
   "execution_count": 39,
   "metadata": {},
   "outputs": [
    {
     "ename": "AttributeError",
     "evalue": "'list' object has no attribute 'sorted'",
     "output_type": "error",
     "traceback": [
      "\u001b[0;31m---------------------------------------------------------------------------\u001b[0m",
      "\u001b[0;31mAttributeError\u001b[0m                            Traceback (most recent call last)",
      "\u001b[0;32m<ipython-input-39-49eef86ca491>\u001b[0m in \u001b[0;36m<module>\u001b[0;34m\u001b[0m\n\u001b[0;32m----> 1\u001b[0;31m \u001b[0md_list\u001b[0m\u001b[0;34m.\u001b[0m\u001b[0msorted\u001b[0m\u001b[0;34m(\u001b[0m\u001b[0mcmp\u001b[0m\u001b[0;34m)\u001b[0m\u001b[0;34m\u001b[0m\u001b[0;34m\u001b[0m\u001b[0m\n\u001b[0m",
      "\u001b[0;31mAttributeError\u001b[0m: 'list' object has no attribute 'sorted'"
     ]
    }
   ],
   "source": [
    "d_list.sorted(cmp)"
   ]
  },
  {
   "cell_type": "code",
   "execution_count": 40,
   "metadata": {},
   "outputs": [
    {
     "ename": "TypeError",
     "evalue": "sorted expected 1 arguments, got 2",
     "output_type": "error",
     "traceback": [
      "\u001b[0;31m---------------------------------------------------------------------------\u001b[0m",
      "\u001b[0;31mTypeError\u001b[0m                                 Traceback (most recent call last)",
      "\u001b[0;32m<ipython-input-40-d684fbc76b45>\u001b[0m in \u001b[0;36m<module>\u001b[0;34m\u001b[0m\n\u001b[0;32m----> 1\u001b[0;31m \u001b[0msorted\u001b[0m\u001b[0;34m(\u001b[0m\u001b[0md_list\u001b[0m\u001b[0;34m,\u001b[0m\u001b[0mcmp\u001b[0m\u001b[0;34m)\u001b[0m\u001b[0;34m\u001b[0m\u001b[0;34m\u001b[0m\u001b[0m\n\u001b[0m",
      "\u001b[0;31mTypeError\u001b[0m: sorted expected 1 arguments, got 2"
     ]
    }
   ],
   "source": [
    "sorted(d_list,cmp)"
   ]
  },
  {
   "cell_type": "code",
   "execution_count": 41,
   "metadata": {},
   "outputs": [
    {
     "name": "stdout",
     "output_type": "stream",
     "text": [
      "Help on function Sort in module __main__:\n",
      "\n",
      "Sort()\n",
      "    This function is a sample.\n",
      "\n"
     ]
    }
   ],
   "source": [
    "def Sort():\n",
    "    '''\n",
    "    This function is a sample.\n",
    "    '''\n",
    "    #dgdsg\n",
    "    lsi = 1\n",
    "    #hhhhhh\n",
    "    return 1\n",
    "help(Sort)"
   ]
  },
  {
   "cell_type": "code",
   "execution_count": 42,
   "metadata": {},
   "outputs": [
    {
     "name": "stdout",
     "output_type": "stream",
     "text": [
      "\n",
      "    This function is a sample.\n",
      "    \n"
     ]
    }
   ],
   "source": [
    "print(Sort.__doc__)"
   ]
  },
  {
   "cell_type": "code",
   "execution_count": 43,
   "metadata": {},
   "outputs": [
    {
     "name": "stdout",
     "output_type": "stream",
     "text": [
      "yes\n"
     ]
    }
   ],
   "source": [
    "var = 10\n",
    "if(type(var) == int):\n",
    "    print(\"yes\")"
   ]
  },
  {
   "cell_type": "code",
   "execution_count": null,
   "metadata": {},
   "outputs": [],
   "source": []
  },
  {
   "cell_type": "code",
   "execution_count": 44,
   "metadata": {},
   "outputs": [
    {
     "name": "stdout",
     "output_type": "stream",
     "text": [
      "yes\n"
     ]
    }
   ],
   "source": [
    "if(isinstance(var,int)):\n",
    "    print(\"yes\")"
   ]
  },
  {
   "cell_type": "code",
   "execution_count": null,
   "metadata": {},
   "outputs": [],
   "source": []
  },
  {
   "cell_type": "code",
   "execution_count": 45,
   "metadata": {},
   "outputs": [
    {
     "name": "stdout",
     "output_type": "stream",
     "text": [
      "(20, 10)\n"
     ]
    }
   ],
   "source": [
    "def Multiply(a,b):\n",
    "    return b,a\n",
    "print(Multiply(10,20))"
   ]
  },
  {
   "cell_type": "code",
   "execution_count": 46,
   "metadata": {},
   "outputs": [],
   "source": [
    "def Kay(enum):\n",
    "    return enum[1]\n",
    "strs = [(\"a\",12),(\"b\",14),(\"z\",4)]\n"
   ]
  },
  {
   "cell_type": "code",
   "execution_count": 47,
   "metadata": {},
   "outputs": [
    {
     "name": "stdout",
     "output_type": "stream",
     "text": [
      "[('a', 12), ('b', 14), ('z', 4)]\n"
     ]
    }
   ],
   "source": [
    "print(strs)"
   ]
  },
  {
   "cell_type": "code",
   "execution_count": 48,
   "metadata": {},
   "outputs": [],
   "source": [
    "strs.sort(key = Kay,reverse = True)"
   ]
  },
  {
   "cell_type": "code",
   "execution_count": 49,
   "metadata": {},
   "outputs": [
    {
     "name": "stdout",
     "output_type": "stream",
     "text": [
      "[('b', 14), ('a', 12), ('z', 4)]\n"
     ]
    }
   ],
   "source": [
    "print(strs)"
   ]
  },
  {
   "cell_type": "code",
   "execution_count": 50,
   "metadata": {},
   "outputs": [],
   "source": [
    "HashMap = {(1,2):\"sfdf\",\"bana\":23}"
   ]
  },
  {
   "cell_type": "code",
   "execution_count": 51,
   "metadata": {},
   "outputs": [
    {
     "ename": "TypeError",
     "evalue": "'dict' object is not callable",
     "output_type": "error",
     "traceback": [
      "\u001b[0;31m---------------------------------------------------------------------------\u001b[0m",
      "\u001b[0;31mTypeError\u001b[0m                                 Traceback (most recent call last)",
      "\u001b[0;32m<ipython-input-51-347ef54f573a>\u001b[0m in \u001b[0;36m<module>\u001b[0;34m\u001b[0m\n\u001b[0;32m----> 1\u001b[0;31m \u001b[0mprint\u001b[0m\u001b[0;34m(\u001b[0m\u001b[0mHashMap\u001b[0m\u001b[0;34m(\u001b[0m\u001b[0;36m2\u001b[0m\u001b[0;34m,\u001b[0m\u001b[0;36m3\u001b[0m\u001b[0;34m)\u001b[0m\u001b[0;34m)\u001b[0m\u001b[0;34m\u001b[0m\u001b[0;34m\u001b[0m\u001b[0m\n\u001b[0m",
      "\u001b[0;31mTypeError\u001b[0m: 'dict' object is not callable"
     ]
    }
   ],
   "source": [
    "print(HashMap(2,3))"
   ]
  },
  {
   "cell_type": "code",
   "execution_count": 52,
   "metadata": {},
   "outputs": [
    {
     "name": "stdout",
     "output_type": "stream",
     "text": [
      "sfdf\n"
     ]
    }
   ],
   "source": [
    "print(HashMap[(1,2)])"
   ]
  },
  {
   "cell_type": "code",
   "execution_count": 54,
   "metadata": {},
   "outputs": [
    {
     "name": "stdout",
     "output_type": "stream",
     "text": [
      "23\n"
     ]
    }
   ],
   "source": [
    "print(HashMap[\"bana\"])"
   ]
  },
  {
   "cell_type": "code",
   "execution_count": 55,
   "metadata": {},
   "outputs": [
    {
     "name": "stdout",
     "output_type": "stream",
     "text": [
      "dict_items([((1, 2), 'sfdf'), ('bana', 23)])\n"
     ]
    }
   ],
   "source": [
    "print(HashMap.items())"
   ]
  },
  {
   "cell_type": "code",
   "execution_count": 56,
   "metadata": {},
   "outputs": [
    {
     "ename": "SyntaxError",
     "evalue": "invalid syntax (<ipython-input-56-8545e70b5d6f>, line 1)",
     "output_type": "error",
     "traceback": [
      "\u001b[0;36m  File \u001b[0;32m\"<ipython-input-56-8545e70b5d6f>\"\u001b[0;36m, line \u001b[0;32m1\u001b[0m\n\u001b[0;31m    print(HashMap.update(\"bana\":24,\"sfdfg\":34))\u001b[0m\n\u001b[0m                               ^\u001b[0m\n\u001b[0;31mSyntaxError\u001b[0m\u001b[0;31m:\u001b[0m invalid syntax\n"
     ]
    }
   ],
   "source": [
    "print(HashMap.update(\"bana\":24,\"sfdfg\":34))"
   ]
  },
  {
   "cell_type": "code",
   "execution_count": 57,
   "metadata": {},
   "outputs": [
    {
     "ename": "SyntaxError",
     "evalue": "invalid syntax (<ipython-input-57-e85a0f60ea7d>, line 1)",
     "output_type": "error",
     "traceback": [
      "\u001b[0;36m  File \u001b[0;32m\"<ipython-input-57-e85a0f60ea7d>\"\u001b[0;36m, line \u001b[0;32m1\u001b[0m\n\u001b[0;31m    print(HashMap.update((\"bana\":24),(\"sdgsg\":34)))\u001b[0m\n\u001b[0m                                ^\u001b[0m\n\u001b[0;31mSyntaxError\u001b[0m\u001b[0;31m:\u001b[0m invalid syntax\n"
     ]
    }
   ],
   "source": [
    "print(HashMap.update((\"bana\":24),(\"sdgsg\":34)))"
   ]
  },
  {
   "cell_type": "code",
   "execution_count": 58,
   "metadata": {},
   "outputs": [
    {
     "name": "stdout",
     "output_type": "stream",
     "text": [
      "None\n"
     ]
    }
   ],
   "source": [
    "print(HashMap.update({\"bana\":24,\"sfdfg\":34}))"
   ]
  },
  {
   "cell_type": "code",
   "execution_count": 59,
   "metadata": {},
   "outputs": [
    {
     "name": "stdout",
     "output_type": "stream",
     "text": [
      "{(1, 2): 'sfdf', 'bana': 24, 'sfdfg': 34}\n"
     ]
    }
   ],
   "source": [
    "HashMap.update({\"bana\":24,\"sfdfg\":34})\n",
    "print(HashMap)"
   ]
  },
  {
   "cell_type": "code",
   "execution_count": 60,
   "metadata": {},
   "outputs": [
    {
     "name": "stdout",
     "output_type": "stream",
     "text": [
      "dict_keys([(1, 2), 'bana', 'sfdfg'])\n"
     ]
    }
   ],
   "source": [
    "print(HashMap.keys())"
   ]
  },
  {
   "cell_type": "code",
   "execution_count": 61,
   "metadata": {},
   "outputs": [
    {
     "name": "stdout",
     "output_type": "stream",
     "text": [
      "dict_values(['sfdf', 24, 34])\n"
     ]
    }
   ],
   "source": [
    "print(HashMap.values())"
   ]
  },
  {
   "cell_type": "code",
   "execution_count": 62,
   "metadata": {},
   "outputs": [
    {
     "name": "stdout",
     "output_type": "stream",
     "text": [
      "('sfdfg', 34)\n"
     ]
    }
   ],
   "source": [
    "print(HashMap.popitem())"
   ]
  },
  {
   "cell_type": "code",
   "execution_count": 63,
   "metadata": {},
   "outputs": [
    {
     "name": "stdout",
     "output_type": "stream",
     "text": [
      "('bana', 24)\n"
     ]
    }
   ],
   "source": [
    "print(HashMap.popitem())"
   ]
  },
  {
   "cell_type": "code",
   "execution_count": 64,
   "metadata": {},
   "outputs": [
    {
     "name": "stdout",
     "output_type": "stream",
     "text": [
      "None\n"
     ]
    }
   ],
   "source": [
    "print(HashMap.get(\"bana\"))"
   ]
  },
  {
   "cell_type": "code",
   "execution_count": 65,
   "metadata": {},
   "outputs": [
    {
     "name": "stdout",
     "output_type": "stream",
     "text": [
      "None\n"
     ]
    }
   ],
   "source": [
    "print(HashMap.get('bana'))"
   ]
  },
  {
   "cell_type": "code",
   "execution_count": 66,
   "metadata": {},
   "outputs": [
    {
     "ename": "KeyError",
     "evalue": "'bana'",
     "output_type": "error",
     "traceback": [
      "\u001b[0;31m---------------------------------------------------------------------------\u001b[0m",
      "\u001b[0;31mKeyError\u001b[0m                                  Traceback (most recent call last)",
      "\u001b[0;32m<ipython-input-66-17a3817cc811>\u001b[0m in \u001b[0;36m<module>\u001b[0;34m\u001b[0m\n\u001b[0;32m----> 1\u001b[0;31m \u001b[0mprint\u001b[0m\u001b[0;34m(\u001b[0m\u001b[0mHashMap\u001b[0m\u001b[0;34m[\u001b[0m\u001b[0;34m'bana'\u001b[0m\u001b[0;34m]\u001b[0m\u001b[0;34m)\u001b[0m\u001b[0;34m\u001b[0m\u001b[0;34m\u001b[0m\u001b[0m\n\u001b[0m",
      "\u001b[0;31mKeyError\u001b[0m: 'bana'"
     ]
    }
   ],
   "source": [
    "print(HashMap['bana'])"
   ]
  },
  {
   "cell_type": "code",
   "execution_count": 67,
   "metadata": {},
   "outputs": [
    {
     "name": "stdout",
     "output_type": "stream",
     "text": [
      "{(1, 2): 'sfdf'}\n"
     ]
    }
   ],
   "source": [
    "print(HashMap)"
   ]
  },
  {
   "cell_type": "code",
   "execution_count": 68,
   "metadata": {},
   "outputs": [
    {
     "ename": "NameError",
     "evalue": "name 'fromkeys' is not defined",
     "output_type": "error",
     "traceback": [
      "\u001b[0;31m---------------------------------------------------------------------------\u001b[0m",
      "\u001b[0;31mNameError\u001b[0m                                 Traceback (most recent call last)",
      "\u001b[0;32m<ipython-input-68-75cc202b4a71>\u001b[0m in \u001b[0;36m<module>\u001b[0;34m\u001b[0m\n\u001b[0;32m----> 1\u001b[0;31m \u001b[0mHash\u001b[0m \u001b[0;34m=\u001b[0m \u001b[0mfromkeys\u001b[0m\u001b[0;34m(\u001b[0m\u001b[0;34m[\u001b[0m\u001b[0;34m'a'\u001b[0m\u001b[0;34m,\u001b[0m\u001b[0;34m'b'\u001b[0m\u001b[0;34m]\u001b[0m\u001b[0;34m)\u001b[0m\u001b[0;34m\u001b[0m\u001b[0;34m\u001b[0m\u001b[0m\n\u001b[0m\u001b[1;32m      2\u001b[0m \u001b[0mprint\u001b[0m\u001b[0;34m(\u001b[0m\u001b[0mHash\u001b[0m\u001b[0;34m)\u001b[0m\u001b[0;34m\u001b[0m\u001b[0;34m\u001b[0m\u001b[0m\n",
      "\u001b[0;31mNameError\u001b[0m: name 'fromkeys' is not defined"
     ]
    }
   ],
   "source": [
    "Hash = fromkeys(['a','b'])\n",
    "print(Hash)"
   ]
  },
  {
   "cell_type": "code",
   "execution_count": 69,
   "metadata": {},
   "outputs": [],
   "source": [
    "Hash = dict.fromkeys(['a','b'])"
   ]
  },
  {
   "cell_type": "code",
   "execution_count": 70,
   "metadata": {},
   "outputs": [
    {
     "name": "stdout",
     "output_type": "stream",
     "text": [
      "{'a': None, 'b': None}\n"
     ]
    }
   ],
   "source": [
    "print(Hash)"
   ]
  },
  {
   "cell_type": "code",
   "execution_count": 71,
   "metadata": {},
   "outputs": [
    {
     "name": "stdout",
     "output_type": "stream",
     "text": [
      "{'a': (14, 23), 'b': (14, 23)}\n"
     ]
    }
   ],
   "source": [
    "Hash = dict.fromkeys(('a','b'),(14,23))\n",
    "print(Hash)"
   ]
  },
  {
   "cell_type": "code",
   "execution_count": 72,
   "metadata": {},
   "outputs": [
    {
     "name": "stdout",
     "output_type": "stream",
     "text": [
      "{'a': 17, 'b': 17}\n"
     ]
    }
   ],
   "source": [
    "Hash = dict.fromkeys(('a','b'),17)\n",
    "print(Hash)"
   ]
  },
  {
   "cell_type": "code",
   "execution_count": 73,
   "metadata": {},
   "outputs": [
    {
     "ename": "AttributeError",
     "evalue": "'dict' object has no attribute 'hash'",
     "output_type": "error",
     "traceback": [
      "\u001b[0;31m---------------------------------------------------------------------------\u001b[0m",
      "\u001b[0;31mAttributeError\u001b[0m                            Traceback (most recent call last)",
      "\u001b[0;32m<ipython-input-73-8730787a9b24>\u001b[0m in \u001b[0;36m<module>\u001b[0;34m\u001b[0m\n\u001b[0;32m----> 1\u001b[0;31m \u001b[0mprint\u001b[0m\u001b[0;34m(\u001b[0m\u001b[0mHash\u001b[0m\u001b[0;34m.\u001b[0m\u001b[0mhash\u001b[0m\u001b[0;34m)\u001b[0m\u001b[0;34m\u001b[0m\u001b[0;34m\u001b[0m\u001b[0m\n\u001b[0m",
      "\u001b[0;31mAttributeError\u001b[0m: 'dict' object has no attribute 'hash'"
     ]
    }
   ],
   "source": [
    "print(Hash.hash)"
   ]
  },
  {
   "cell_type": "code",
   "execution_count": 74,
   "metadata": {},
   "outputs": [
    {
     "name": "stdout",
     "output_type": "stream",
     "text": [
      "<built-in function hash>\n"
     ]
    }
   ],
   "source": [
    "print(hash)"
   ]
  },
  {
   "cell_type": "code",
   "execution_count": 75,
   "metadata": {},
   "outputs": [
    {
     "name": "stdout",
     "output_type": "stream",
     "text": [
      "Help on built-in function hash in module builtins:\n",
      "\n",
      "hash(obj, /)\n",
      "    Return the hash value for the given object.\n",
      "    \n",
      "    Two objects that compare equal must also have the same hash value, but the\n",
      "    reverse is not necessarily true.\n",
      "\n"
     ]
    }
   ],
   "source": [
    "help(hash)"
   ]
  },
  {
   "cell_type": "code",
   "execution_count": 76,
   "metadata": {},
   "outputs": [
    {
     "ename": "TypeError",
     "evalue": "unhashable type: 'dict'",
     "output_type": "error",
     "traceback": [
      "\u001b[0;31m---------------------------------------------------------------------------\u001b[0m",
      "\u001b[0;31mTypeError\u001b[0m                                 Traceback (most recent call last)",
      "\u001b[0;32m<ipython-input-76-9e342c899675>\u001b[0m in \u001b[0;36m<module>\u001b[0;34m\u001b[0m\n\u001b[0;32m----> 1\u001b[0;31m \u001b[0mprint\u001b[0m\u001b[0;34m(\u001b[0m\u001b[0mhash\u001b[0m\u001b[0;34m(\u001b[0m\u001b[0mHash\u001b[0m\u001b[0;34m)\u001b[0m\u001b[0;34m)\u001b[0m\u001b[0;34m\u001b[0m\u001b[0;34m\u001b[0m\u001b[0m\n\u001b[0m",
      "\u001b[0;31mTypeError\u001b[0m: unhashable type: 'dict'"
     ]
    }
   ],
   "source": [
    "print(hash(Hash))"
   ]
  },
  {
   "cell_type": "code",
   "execution_count": 77,
   "metadata": {},
   "outputs": [
    {
     "ename": "NameError",
     "evalue": "name 'hash9var' is not defined",
     "output_type": "error",
     "traceback": [
      "\u001b[0;31m---------------------------------------------------------------------------\u001b[0m",
      "\u001b[0;31mNameError\u001b[0m                                 Traceback (most recent call last)",
      "\u001b[0;32m<ipython-input-77-e03bdcfc4747>\u001b[0m in \u001b[0;36m<module>\u001b[0;34m\u001b[0m\n\u001b[1;32m      1\u001b[0m \u001b[0mvar\u001b[0m \u001b[0;34m=\u001b[0m \u001b[0;36m10\u001b[0m\u001b[0;34m\u001b[0m\u001b[0;34m\u001b[0m\u001b[0m\n\u001b[0;32m----> 2\u001b[0;31m \u001b[0mprint\u001b[0m\u001b[0;34m(\u001b[0m\u001b[0mhash9var\u001b[0m\u001b[0;34m)\u001b[0m\u001b[0;34m\u001b[0m\u001b[0;34m\u001b[0m\u001b[0m\n\u001b[0m",
      "\u001b[0;31mNameError\u001b[0m: name 'hash9var' is not defined"
     ]
    }
   ],
   "source": [
    "var = 10\n",
    "print(hash9var)"
   ]
  },
  {
   "cell_type": "code",
   "execution_count": 78,
   "metadata": {},
   "outputs": [
    {
     "name": "stdout",
     "output_type": "stream",
     "text": [
      "10\n"
     ]
    }
   ],
   "source": [
    "print(hash(var))"
   ]
  },
  {
   "cell_type": "code",
   "execution_count": 79,
   "metadata": {},
   "outputs": [
    {
     "name": "stdout",
     "output_type": "stream",
     "text": [
      "1232424\n"
     ]
    }
   ],
   "source": [
    "var = 1232424\n",
    "print(hash(var))"
   ]
  },
  {
   "cell_type": "code",
   "execution_count": 80,
   "metadata": {},
   "outputs": [
    {
     "name": "stdout",
     "output_type": "stream",
     "text": [
      "-6631988225679639273\n"
     ]
    }
   ],
   "source": [
    "var = \"sfsfsgf\"\n",
    "print(hash(var))"
   ]
  },
  {
   "cell_type": "code",
   "execution_count": null,
   "metadata": {},
   "outputs": [],
   "source": [
    "n = input()\n"
   ]
  },
  {
   "cell_type": "code",
   "execution_count": null,
   "metadata": {},
   "outputs": [],
   "source": []
  },
  {
   "cell_type": "code",
   "execution_count": null,
   "metadata": {},
   "outputs": [],
   "source": [
    "print(n)"
   ]
  },
  {
   "cell_type": "code",
   "execution_count": null,
   "metadata": {},
   "outputs": [],
   "source": [
    "n = input()\n",
    "dic = {}\n",
    "for x in range(n):\n",
    "    ch = input()\n",
    "    dic[ch] = dic[ch] + 1\n"
   ]
  },
  {
   "cell_type": "code",
   "execution_count": null,
   "metadata": {},
   "outputs": [],
   "source": []
  },
  {
   "cell_type": "code",
   "execution_count": null,
   "metadata": {},
   "outputs": [],
   "source": [
    "dic = {}\n",
    "n = input()\n",
    "dic.update({n,1})\n",
    "print(dic)\n",
    "n = input()\n",
    "n = input()\n",
    "n = input()"
   ]
  },
  {
   "cell_type": "code",
   "execution_count": null,
   "metadata": {},
   "outputs": [],
   "source": [
    "dic = {}\n",
    "dic.update({\"sdfds\":23,\"dsgs\",23})"
   ]
  },
  {
   "cell_type": "code",
   "execution_count": null,
   "metadata": {},
   "outputs": [],
   "source": [
    "print(dic)"
   ]
  },
  {
   "cell_type": "code",
   "execution_count": 4,
   "metadata": {},
   "outputs": [
    {
     "name": "stdout",
     "output_type": "stream",
     "text": [
      "2015\n",
      "6\n",
      "7\n",
      "158\n"
     ]
    }
   ],
   "source": [
    "y = int(input())\n",
    "m = int(input())\n",
    "d = int(input())\n",
    "ans = 0\n",
    "evd = [31,28,31,30,31,30,31,31,30,31,30,31]\n",
    "if((y % 4 == 0 and (y % 100 != 0)) or y % 400 == 0 ):\n",
    "    evd[1] = 29\n",
    "if(m == 1):\n",
    "    print(d)\n",
    "else:\n",
    "    for i in range(m - 1):\n",
    "        ans += evd[i]\n",
    "    ans += d\n",
    "    print(ans)"
   ]
  },
  {
   "cell_type": "code",
   "execution_count": 20,
   "metadata": {},
   "outputs": [
    {
     "name": "stdout",
     "output_type": "stream",
     "text": [
      "1 * 1 = 01 \n",
      "2 * 1 = 02 2 * 2 = 04 \n",
      "3 * 1 = 03 3 * 2 = 06 3 * 3 = 09 \n",
      "4 * 1 = 04 4 * 2 = 08 4 * 3 = 12 4 * 4 = 16 \n",
      "5 * 1 = 05 5 * 2 = 10 5 * 3 = 15 5 * 4 = 20 5 * 5 = 25 \n",
      "6 * 1 = 06 6 * 2 = 12 6 * 3 = 18 6 * 4 = 24 6 * 5 = 30 6 * 6 = 36 \n",
      "7 * 1 = 07 7 * 2 = 14 7 * 3 = 21 7 * 4 = 28 7 * 5 = 35 7 * 6 = 42 7 * 7 = 49 \n",
      "8 * 1 = 08 8 * 2 = 16 8 * 3 = 24 8 * 4 = 32 8 * 5 = 40 8 * 6 = 48 8 * 7 = 56 8 * 8 = 64 \n",
      "9 * 1 = 09 9 * 2 = 18 9 * 3 = 27 9 * 4 = 36 9 * 5 = 45 9 * 6 = 54 9 * 7 = 63 9 * 8 = 72 9 * 9 = 81 \n"
     ]
    }
   ],
   "source": [
    "for i in range(9):\n",
    "    for j in range(i+1):\n",
    "        print(\"%d * %d = %02d \" % (i+1,j+1,(i+1)*(j+1)),end='')\n",
    "    print('')"
   ]
  },
  {
   "cell_type": "code",
   "execution_count": 2,
   "metadata": {},
   "outputs": [
    {
     "name": "stdout",
     "output_type": "stream",
     "text": [
      "s\n"
     ]
    }
   ],
   "source": [
    "print(chr(ord('s')))"
   ]
  },
  {
   "cell_type": "code",
   "execution_count": 4,
   "metadata": {},
   "outputs": [
    {
     "name": "stdout",
     "output_type": "stream",
     "text": [
      "3\n",
      "A\n",
      "A\n",
      "B\n",
      "{'A': 2, 'B': 1, 'C': 0, 'D': 0, 'E': 0, 'F': 0, 'G': 0, 'H': 0, 'I': 0, 'J': 0, 'K': 0, 'L': 0, 'M': 0, 'N': 0, 'O': 0, 'P': 0, 'Q': 0, 'R': 0, 'S': 0, 'T': 0, 'U': 0, 'V': 0, 'W': 0, 'X': 0, 'Y': 0, 'Z': 0}\n"
     ]
    }
   ],
   "source": [
    "s = {}\n",
    "for i in range(ord('A'),ord('Z') + 1):\n",
    "    s[chr(i)] = 0\n",
    "n = int(input())\n",
    "for i in range(n):\n",
    "    x = input()\n",
    "    s[x] += 1\n",
    "print(s)"
   ]
  },
  {
   "cell_type": "code",
   "execution_count": 6,
   "metadata": {},
   "outputs": [
    {
     "name": "stdout",
     "output_type": "stream",
     "text": [
      "3\n",
      "A\n",
      "A\n",
      "C\n",
      "{'A': 2, 'C': 1}\n"
     ]
    }
   ],
   "source": [
    "s = {}\n",
    "n = int(input())\n",
    "for i in range(n):\n",
    "    x = input()\n",
    "    if(s.get(x)):\n",
    "        s[x] += 1\n",
    "    else:\n",
    "        s[x] = 1\n",
    "print(s)"
   ]
  },
  {
   "cell_type": "code",
   "execution_count": 7,
   "metadata": {},
   "outputs": [
    {
     "ename": "TypeError",
     "evalue": "unhashable type: 'dict'",
     "output_type": "error",
     "traceback": [
      "\u001b[0;31m---------------------------------------------------------------------------\u001b[0m",
      "\u001b[0;31mTypeError\u001b[0m                                 Traceback (most recent call last)",
      "\u001b[0;32m<ipython-input-7-b705f6abf33c>\u001b[0m in \u001b[0;36m<module>\u001b[0;34m\u001b[0m\n\u001b[0;32m----> 1\u001b[0;31m \u001b[0mprint\u001b[0m\u001b[0;34m(\u001b[0m\u001b[0mhash\u001b[0m\u001b[0;34m(\u001b[0m\u001b[0ms\u001b[0m\u001b[0;34m)\u001b[0m\u001b[0;34m)\u001b[0m\u001b[0;34m\u001b[0m\u001b[0;34m\u001b[0m\u001b[0m\n\u001b[0m",
      "\u001b[0;31mTypeError\u001b[0m: unhashable type: 'dict'"
     ]
    }
   ],
   "source": [
    "print(hash(s))"
   ]
  },
  {
   "cell_type": "code",
   "execution_count": 8,
   "metadata": {},
   "outputs": [
    {
     "name": "stdout",
     "output_type": "stream",
     "text": [
      "Name is: Harry Potter,price is: 69,author: J.K.Rowling\n"
     ]
    }
   ],
   "source": [
    "#dict format str\n",
    "temp = 'Name is: %(name)s,price is: %(price)d,author: %(author)s'\n",
    "book = {'name':'Harry Potter','price':69,'author':'J.K.Rowling'}\n",
    "print(temp % book)"
   ]
  },
  {
   "cell_type": "code",
   "execution_count": 9,
   "metadata": {},
   "outputs": [
    {
     "name": "stdout",
     "output_type": "stream",
     "text": [
      "dict_items([('A', 2), ('C', 1)])\n"
     ]
    }
   ],
   "source": [
    "print(s.items())"
   ]
  },
  {
   "cell_type": "code",
   "execution_count": 1,
   "metadata": {},
   "outputs": [
    {
     "ename": "NameError",
     "evalue": "name 's' is not defined",
     "output_type": "error",
     "traceback": [
      "\u001b[0;31m---------------------------------------------------------------------------\u001b[0m",
      "\u001b[0;31mNameError\u001b[0m                                 Traceback (most recent call last)",
      "\u001b[0;32m<ipython-input-1-01ba97a03b27>\u001b[0m in \u001b[0;36m<module>\u001b[0;34m\u001b[0m\n\u001b[0;32m----> 1\u001b[0;31m \u001b[0mprint\u001b[0m\u001b[0;34m(\u001b[0m\u001b[0mtuple\u001b[0m\u001b[0;34m(\u001b[0m\u001b[0ms\u001b[0m\u001b[0;34m.\u001b[0m\u001b[0mitems\u001b[0m\u001b[0;34m(\u001b[0m\u001b[0;34m)\u001b[0m\u001b[0;34m)\u001b[0m\u001b[0;34m)\u001b[0m\u001b[0;34m\u001b[0m\u001b[0;34m\u001b[0m\u001b[0m\n\u001b[0m",
      "\u001b[0;31mNameError\u001b[0m: name 's' is not defined"
     ]
    }
   ],
   "source": [
    "print(tuple(s.items()))"
   ]
  },
  {
   "cell_type": "code",
   "execution_count": 2,
   "metadata": {},
   "outputs": [
    {
     "ename": "NameError",
     "evalue": "name 's' is not defined",
     "output_type": "error",
     "traceback": [
      "\u001b[0;31m---------------------------------------------------------------------------\u001b[0m",
      "\u001b[0;31mNameError\u001b[0m                                 Traceback (most recent call last)",
      "\u001b[0;32m<ipython-input-2-0ff1b7208845>\u001b[0m in \u001b[0;36m<module>\u001b[0;34m\u001b[0m\n\u001b[0;32m----> 1\u001b[0;31m \u001b[0mprint\u001b[0m\u001b[0;34m(\u001b[0m\u001b[0ms\u001b[0m\u001b[0;34m)\u001b[0m\u001b[0;34m\u001b[0m\u001b[0;34m\u001b[0m\u001b[0m\n\u001b[0m",
      "\u001b[0;31mNameError\u001b[0m: name 's' is not defined"
     ]
    }
   ],
   "source": [
    "print(s)"
   ]
  },
  {
   "cell_type": "code",
   "execution_count": 3,
   "metadata": {},
   "outputs": [
    {
     "data": {
      "text/plain": [
       "{'A': 2, 'C': 1}"
      ]
     },
     "execution_count": 3,
     "metadata": {},
     "output_type": "execute_result"
    }
   ],
   "source": [
    "{'A': 2, 'C': 1}"
   ]
  },
  {
   "cell_type": "code",
   "execution_count": 5,
   "metadata": {},
   "outputs": [
    {
     "ename": "NameError",
     "evalue": "name 's' is not defined",
     "output_type": "error",
     "traceback": [
      "\u001b[0;31m---------------------------------------------------------------------------\u001b[0m",
      "\u001b[0;31mNameError\u001b[0m                                 Traceback (most recent call last)",
      "\u001b[0;32m<ipython-input-5-01ba97a03b27>\u001b[0m in \u001b[0;36m<module>\u001b[0;34m\u001b[0m\n\u001b[0;32m----> 1\u001b[0;31m \u001b[0mprint\u001b[0m\u001b[0;34m(\u001b[0m\u001b[0mtuple\u001b[0m\u001b[0;34m(\u001b[0m\u001b[0ms\u001b[0m\u001b[0;34m.\u001b[0m\u001b[0mitems\u001b[0m\u001b[0;34m(\u001b[0m\u001b[0;34m)\u001b[0m\u001b[0;34m)\u001b[0m\u001b[0;34m)\u001b[0m\u001b[0;34m\u001b[0m\u001b[0;34m\u001b[0m\u001b[0m\n\u001b[0m",
      "\u001b[0;31mNameError\u001b[0m: name 's' is not defined"
     ]
    }
   ],
   "source": [
    "print(tuple(s.items()))"
   ]
  },
  {
   "cell_type": "code",
   "execution_count": 6,
   "metadata": {},
   "outputs": [
    {
     "name": "stdout",
     "output_type": "stream",
     "text": [
      "(('A', 2), ('C', 1))\n"
     ]
    }
   ],
   "source": [
    "s = {'A':2,'C':1}\n",
    "print(tuple(s.items()))"
   ]
  },
  {
   "cell_type": "code",
   "execution_count": 7,
   "metadata": {},
   "outputs": [
    {
     "ename": "AttributeError",
     "evalue": "'dict' object has no attribute 'reverse'",
     "output_type": "error",
     "traceback": [
      "\u001b[0;31m---------------------------------------------------------------------------\u001b[0m",
      "\u001b[0;31mAttributeError\u001b[0m                            Traceback (most recent call last)",
      "\u001b[0;32m<ipython-input-7-24aea3f3fe0c>\u001b[0m in \u001b[0;36m<module>\u001b[0;34m\u001b[0m\n\u001b[0;32m----> 1\u001b[0;31m \u001b[0mprint\u001b[0m\u001b[0;34m(\u001b[0m\u001b[0ms\u001b[0m\u001b[0;34m.\u001b[0m\u001b[0mreverse\u001b[0m\u001b[0;34m(\u001b[0m\u001b[0;34m)\u001b[0m\u001b[0;34m)\u001b[0m\u001b[0;34m\u001b[0m\u001b[0;34m\u001b[0m\u001b[0m\n\u001b[0m",
      "\u001b[0;31mAttributeError\u001b[0m: 'dict' object has no attribute 'reverse'"
     ]
    }
   ],
   "source": [
    "print(s.reverse())"
   ]
  },
  {
   "cell_type": "code",
   "execution_count": 8,
   "metadata": {},
   "outputs": [
    {
     "name": "stdout",
     "output_type": "stream",
     "text": [
      "None\n"
     ]
    }
   ],
   "source": [
    "a = [1,2,2,343,5,5]\n",
    "print(a.reverse())"
   ]
  },
  {
   "cell_type": "code",
   "execution_count": 9,
   "metadata": {},
   "outputs": [
    {
     "ename": "TypeError",
     "evalue": "'dict' object is not reversible",
     "output_type": "error",
     "traceback": [
      "\u001b[0;31m---------------------------------------------------------------------------\u001b[0m",
      "\u001b[0;31mTypeError\u001b[0m                                 Traceback (most recent call last)",
      "\u001b[0;32m<ipython-input-9-11d9d7a1b25e>\u001b[0m in \u001b[0;36m<module>\u001b[0;34m\u001b[0m\n\u001b[0;32m----> 1\u001b[0;31m \u001b[0mprint\u001b[0m\u001b[0;34m(\u001b[0m\u001b[0mreversed\u001b[0m\u001b[0;34m(\u001b[0m\u001b[0ms\u001b[0m\u001b[0;34m)\u001b[0m\u001b[0;34m)\u001b[0m\u001b[0;34m\u001b[0m\u001b[0;34m\u001b[0m\u001b[0m\n\u001b[0m",
      "\u001b[0;31mTypeError\u001b[0m: 'dict' object is not reversible"
     ]
    }
   ],
   "source": [
    "print(reversed(s))"
   ]
  },
  {
   "cell_type": "code",
   "execution_count": 10,
   "metadata": {},
   "outputs": [
    {
     "name": "stdout",
     "output_type": "stream",
     "text": [
      "<list_reverseiterator object at 0x7fb256f3c610>\n"
     ]
    }
   ],
   "source": [
    "print(reversed(a))"
   ]
  },
  {
   "cell_type": "code",
   "execution_count": 11,
   "metadata": {},
   "outputs": [
    {
     "name": "stdout",
     "output_type": "stream",
     "text": [
      "None\n"
     ]
    }
   ],
   "source": [
    "b = a.reverse()\n",
    "print(b)"
   ]
  },
  {
   "cell_type": "code",
   "execution_count": 12,
   "metadata": {},
   "outputs": [
    {
     "name": "stdout",
     "output_type": "stream",
     "text": [
      "[1, 2, 2, 343, 5, 5]\n"
     ]
    }
   ],
   "source": [
    "print(a)"
   ]
  },
  {
   "cell_type": "code",
   "execution_count": 13,
   "metadata": {},
   "outputs": [],
   "source": [
    "a = a.reverse()"
   ]
  },
  {
   "cell_type": "code",
   "execution_count": 14,
   "metadata": {},
   "outputs": [
    {
     "name": "stdout",
     "output_type": "stream",
     "text": [
      "None\n"
     ]
    }
   ],
   "source": [
    "print(a)"
   ]
  },
  {
   "cell_type": "code",
   "execution_count": 15,
   "metadata": {},
   "outputs": [],
   "source": [
    "a = [1,2342,43,53,5,4,64]\n"
   ]
  },
  {
   "cell_type": "code",
   "execution_count": null,
   "metadata": {},
   "outputs": [],
   "source": [
    "a.reverse()"
   ]
  },
  {
   "cell_type": "code",
   "execution_count": 16,
   "metadata": {},
   "outputs": [
    {
     "name": "stdout",
     "output_type": "stream",
     "text": [
      "[1, 2342, 43, 53, 5, 4, 64]\n"
     ]
    }
   ],
   "source": [
    "print(a)"
   ]
  },
  {
   "cell_type": "code",
   "execution_count": 17,
   "metadata": {},
   "outputs": [
    {
     "name": "stdout",
     "output_type": "stream",
     "text": [
      "[64, 4, 5, 53, 43, 2342, 1]\n"
     ]
    }
   ],
   "source": [
    "a.reverse()\n",
    "print(a)"
   ]
  },
  {
   "cell_type": "code",
   "execution_count": 18,
   "metadata": {},
   "outputs": [
    {
     "name": "stdout",
     "output_type": "stream",
     "text": [
      "[64, 4, 5, 53, 43, 2342, 1]\n"
     ]
    }
   ],
   "source": [
    "reversed(a)\n",
    "print(a)"
   ]
  },
  {
   "cell_type": "code",
   "execution_count": 19,
   "metadata": {},
   "outputs": [
    {
     "name": "stdout",
     "output_type": "stream",
     "text": [
      "[1, 2342, 43, 53, 5, 4, 64]\n"
     ]
    }
   ],
   "source": [
    "d = [x for x in reversed(a)]\n",
    "print(d)"
   ]
  },
  {
   "cell_type": "code",
   "execution_count": 6,
   "metadata": {},
   "outputs": [
    {
     "name": "stdout",
     "output_type": "stream",
     "text": [
      "4\n",
      "[[1, 12, 11, 10], [2, 13, 16, 9], [3, 14, 15, 8], [4, 5, 6, 7]]\n"
     ]
    }
   ],
   "source": [
    "n = int(input())\n",
    "mat = [[0 for i in range(n)] for j in range(n)]\n",
    "t = 1\n",
    "x = 0\n",
    "y = 0\n",
    "f = 1 # 1: down 2:right 3: up 4: left\n",
    "while t <= n*n:\n",
    "    mat[y][x] = t\n",
    "    t += 1\n",
    "    if f == 1:\n",
    "        #down\n",
    "        if y == n-1:\n",
    "            f = 2\n",
    "            x += 1\n",
    "        else:\n",
    "            if mat[y + 1][x] != 0:\n",
    "                f = 2\n",
    "                x += 1\n",
    "            else:\n",
    "                y += 1\n",
    "    elif f == 2:\n",
    "        #right\n",
    "        if x == n-1:\n",
    "            f = 3\n",
    "            y -= 1\n",
    "        else:\n",
    "            if mat[y][x + 1] != 0:\n",
    "                f = 3\n",
    "                y -= 1\n",
    "            else:\n",
    "                x += 1\n",
    "    elif f == 3:\n",
    "        #up\n",
    "        if y == 0:\n",
    "            f = 4\n",
    "            x -= 1\n",
    "        else:\n",
    "            if mat[y - 1][x] != 0:\n",
    "                f = 4\n",
    "                x -= 1\n",
    "            else:\n",
    "                y -= 1\n",
    "    else:\n",
    "        #left\n",
    "        if x == 0:\n",
    "            f = 1\n",
    "            y += 1\n",
    "        else:\n",
    "            if mat[y][x - 1] != 0:\n",
    "                f = 1\n",
    "                y += 1\n",
    "            else:\n",
    "                x -= 1\n",
    "print(mat)"
   ]
  },
  {
   "cell_type": "code",
   "execution_count": 9,
   "metadata": {},
   "outputs": [
    {
     "name": "stdout",
     "output_type": "stream",
     "text": [
      "01 12 11 10 \n",
      "02 13 16 09 \n",
      "03 14 15 08 \n",
      "04 05 06 07 \n"
     ]
    }
   ],
   "source": [
    "for i in range(n):\n",
    "    for j in range(n):\n",
    "        print(\"%02d \" % mat[i][j],end = \"\")\n",
    "    print(\"\")"
   ]
  },
  {
   "cell_type": "code",
   "execution_count": 12,
   "metadata": {},
   "outputs": [
    {
     "name": "stdout",
     "output_type": "stream",
     "text": [
      "4\n",
      "    *    \n",
      "   ***   \n",
      "  *****  \n",
      " ******* \n"
     ]
    }
   ],
   "source": [
    "n = int(input())\n",
    "for i in range(n):\n",
    "    print(\" \"*(n - i - 1),\"*\"*(2*i+1),\" \"*(n- i - 1))"
   ]
  },
  {
   "cell_type": "code",
   "execution_count": 20,
   "metadata": {},
   "outputs": [
    {
     "name": "stdout",
     "output_type": "stream",
     "text": [
      "21\n"
     ]
    }
   ],
   "source": [
    "import math\n",
    "def isPrimer(x):\n",
    "    if x < 0 or x == 1:\n",
    "        return False\n",
    "    if x == 2:\n",
    "        return True\n",
    "    if x % 2 == 0:\n",
    "        return False\n",
    "    for i in range(2,int(math.sqrt(x) + 1)):\n",
    "        if x % i == 0:\n",
    "            return False\n",
    "    return True\n",
    "cnt = 0\n",
    "for i in range(101,201):\n",
    "    if isPrimer(i):\n",
    "        cnt += 1\n",
    "print(cnt)"
   ]
  },
  {
   "cell_type": "code",
   "execution_count": 38,
   "metadata": {
    "scrolled": false
   },
   "outputs": [
    {
     "name": "stdout",
     "output_type": "stream",
     "text": [
      "10\n",
      "                     *  *\n",
      "             *                  *\n",
      "         *                          *\n",
      "       *                              *\n",
      "     *                                  *\n",
      "     *                                  *\n",
      "   *                                      *\n",
      "   *                                      *\n",
      "   *                                      *\n",
      "   *                                      *\n",
      " *                                          *\n",
      "   *                                      *\n",
      "   *                                      *\n",
      "   *                                      *\n",
      "   *                                      *\n",
      "     *                                  *\n",
      "     *                                  *\n",
      "       *                              *\n",
      "         *                          *\n",
      "             *                  *\n",
      "                     *  *\n"
     ]
    }
   ],
   "source": [
    "Nstr = ' '\n",
    "r = int(input())\n",
    "for y in range(2*r + 1):\n",
    "    x1 = r - int(math.sqrt(y * (2*r - y)))\n",
    "    x2 = 2*r - x1\n",
    "    x1 *= 2\n",
    "    x2 *= 2\n",
    "    print(Nstr*x1,'*',Nstr*(x2-x1),'*')\n"
   ]
  },
  {
   "cell_type": "code",
   "execution_count": 40,
   "metadata": {},
   "outputs": [
    {
     "name": "stdout",
     "output_type": "stream",
     "text": [
      "20\n"
     ]
    }
   ],
   "source": [
    "def Max(x,y):\n",
    "    return x if x > y else y\n",
    "print(Max(10,20))"
   ]
  },
  {
   "cell_type": "code",
   "execution_count": 41,
   "metadata": {},
   "outputs": [
    {
     "name": "stdout",
     "output_type": "stream",
     "text": [
      "(20, 10)\n"
     ]
    }
   ],
   "source": [
    "def d_li(a,b):\n",
    "    return b,a\n",
    "print(d_li(10,20))"
   ]
  },
  {
   "cell_type": "code",
   "execution_count": 53,
   "metadata": {},
   "outputs": [],
   "source": [
    "def girth(width,height,depth):\n",
    "    print('width:%d,height:%d,depth:%d' % (width,height,depth))"
   ]
  },
  {
   "cell_type": "code",
   "execution_count": 47,
   "metadata": {},
   "outputs": [
    {
     "name": "stdout",
     "output_type": "stream",
     "text": [
      "width:10,height:20\n"
     ]
    }
   ],
   "source": [
    "girth(10,20)"
   ]
  },
  {
   "cell_type": "code",
   "execution_count": 48,
   "metadata": {},
   "outputs": [
    {
     "name": "stdout",
     "output_type": "stream",
     "text": [
      "width:20,height:10\n"
     ]
    }
   ],
   "source": [
    "girth(20,10)"
   ]
  },
  {
   "cell_type": "code",
   "execution_count": 49,
   "metadata": {},
   "outputs": [
    {
     "name": "stdout",
     "output_type": "stream",
     "text": [
      "width:10,height:20\n"
     ]
    }
   ],
   "source": [
    "girth(width = 10,height =20)"
   ]
  },
  {
   "cell_type": "code",
   "execution_count": 50,
   "metadata": {
    "scrolled": true
   },
   "outputs": [
    {
     "ename": "SyntaxError",
     "evalue": "positional argument follows keyword argument (<ipython-input-50-a0669fffaa56>, line 1)",
     "output_type": "error",
     "traceback": [
      "\u001b[0;36m  File \u001b[0;32m\"<ipython-input-50-a0669fffaa56>\"\u001b[0;36m, line \u001b[0;32m1\u001b[0m\n\u001b[0;31m    girth(width=10,20)\u001b[0m\n\u001b[0m                  ^\u001b[0m\n\u001b[0;31mSyntaxError\u001b[0m\u001b[0;31m:\u001b[0m positional argument follows keyword argument\n"
     ]
    }
   ],
   "source": [
    "girth(width=10,20)"
   ]
  },
  {
   "cell_type": "code",
   "execution_count": 51,
   "metadata": {},
   "outputs": [
    {
     "ename": "TypeError",
     "evalue": "girth() got multiple values for argument 'width'",
     "output_type": "error",
     "traceback": [
      "\u001b[0;31m---------------------------------------------------------------------------\u001b[0m",
      "\u001b[0;31mTypeError\u001b[0m                                 Traceback (most recent call last)",
      "\u001b[0;32m<ipython-input-51-d8de4ce04132>\u001b[0m in \u001b[0;36m<module>\u001b[0;34m\u001b[0m\n\u001b[0;32m----> 1\u001b[0;31m \u001b[0mgirth\u001b[0m\u001b[0;34m(\u001b[0m\u001b[0;36m20\u001b[0m\u001b[0;34m,\u001b[0m\u001b[0mwidth\u001b[0m \u001b[0;34m=\u001b[0m \u001b[0;36m10\u001b[0m\u001b[0;34m)\u001b[0m\u001b[0;34m\u001b[0m\u001b[0;34m\u001b[0m\u001b[0m\n\u001b[0m",
      "\u001b[0;31mTypeError\u001b[0m: girth() got multiple values for argument 'width'"
     ]
    }
   ],
   "source": [
    "girth(20,width = 10)"
   ]
  },
  {
   "cell_type": "code",
   "execution_count": 55,
   "metadata": {},
   "outputs": [
    {
     "name": "stdout",
     "output_type": "stream",
     "text": [
      "width:10,height:20,depth:30\n"
     ]
    }
   ],
   "source": [
    "girth(10,20,depth=30)"
   ]
  },
  {
   "cell_type": "code",
   "execution_count": 56,
   "metadata": {},
   "outputs": [
    {
     "name": "stdout",
     "output_type": "stream",
     "text": [
      "width:10,height:20,depth:30\n"
     ]
    }
   ],
   "source": [
    "girth(10,depth=30,height =20)"
   ]
  },
  {
   "cell_type": "code",
   "execution_count": 57,
   "metadata": {},
   "outputs": [
    {
     "name": "stdout",
     "output_type": "stream",
     "text": [
      "hi, None , welcome\n"
     ]
    }
   ],
   "source": [
    "def say_hi(name = 'None',msg = 'welcome'):\n",
    "    print(\"hi,\",name,\",\",msg)\n",
    "say_hi()"
   ]
  },
  {
   "cell_type": "code",
   "execution_count": 58,
   "metadata": {},
   "outputs": [
    {
     "name": "stdout",
     "output_type": "stream",
     "text": [
      "hi, zforw , welcome\n"
     ]
    }
   ],
   "source": [
    "say_hi(\"zforw\")"
   ]
  },
  {
   "cell_type": "code",
   "execution_count": 59,
   "metadata": {},
   "outputs": [
    {
     "name": "stdout",
     "output_type": "stream",
     "text": [
      "hi, zforw , how come\n"
     ]
    }
   ],
   "source": [
    "say_hi(\"zforw\",\"how come\")"
   ]
  },
  {
   "cell_type": "code",
   "execution_count": 60,
   "metadata": {},
   "outputs": [
    {
     "name": "stdout",
     "output_type": "stream",
     "text": [
      "hi, None , how come\n"
     ]
    }
   ],
   "source": [
    "say_hi(msg = \"how come\")"
   ]
  },
  {
   "cell_type": "code",
   "execution_count": 61,
   "metadata": {},
   "outputs": [
    {
     "ename": "SyntaxError",
     "evalue": "non-default argument follows default argument (<ipython-input-61-ec1374bc7898>, line 1)",
     "output_type": "error",
     "traceback": [
      "\u001b[0;36m  File \u001b[0;32m\"<ipython-input-61-ec1374bc7898>\"\u001b[0;36m, line \u001b[0;32m1\u001b[0m\n\u001b[0;31m    def printTri(ch = '*',height):\u001b[0m\n\u001b[0m                ^\u001b[0m\n\u001b[0;31mSyntaxError\u001b[0m\u001b[0;31m:\u001b[0m non-default argument follows default argument\n"
     ]
    }
   ],
   "source": [
    "def printTri(ch = '*',height):\n",
    "    return 1"
   ]
  },
  {
   "cell_type": "code",
   "execution_count": 62,
   "metadata": {},
   "outputs": [],
   "source": [
    "def printTri(height,ch = '*'):\n",
    "    for i in range(height):\n",
    "        print(' '*i,'*'*(i+1))"
   ]
  },
  {
   "cell_type": "code",
   "execution_count": 63,
   "metadata": {},
   "outputs": [
    {
     "name": "stdout",
     "output_type": "stream",
     "text": [
      " *\n",
      "  **\n",
      "   ***\n",
      "    ****\n",
      "     *****\n",
      "      ******\n"
     ]
    }
   ],
   "source": [
    "printTri(6)"
   ]
  },
  {
   "cell_type": "code",
   "execution_count": 65,
   "metadata": {},
   "outputs": [
    {
     "name": "stdout",
     "output_type": "stream",
     "text": [
      "(3, 'dgd', 'iOS')\n",
      "3 dgd iOS "
     ]
    }
   ],
   "source": [
    "def M(a,*books):\n",
    "    print(books)\n",
    "    for i in books:\n",
    "        print(i,end=\" \")\n",
    "M(4,3,'dgd','iOS')"
   ]
  },
  {
   "cell_type": "code",
   "execution_count": 67,
   "metadata": {},
   "outputs": [
    {
     "name": "stdout",
     "output_type": "stream",
     "text": [
      "('sfds', 'dg', 'dgd', 'dg')\n",
      "1   a   98\n"
     ]
    }
   ],
   "source": [
    "def M(c,*books,a,b):\n",
    "    print(books)\n",
    "    print(c,' ',a,' ',b)\n",
    "M(1,'sfds','dg','dgd','dg',a = 'a',b = '98')"
   ]
  },
  {
   "cell_type": "code",
   "execution_count": 73,
   "metadata": {},
   "outputs": [
    {
     "name": "stdout",
     "output_type": "stream",
     "text": [
      "1 2 3\n",
      "('iOS', 'C++', 'fk')\n",
      "{'cn': 89, 'mt': 90}\n"
     ]
    }
   ],
   "source": [
    "def test(x,y,z=3,*books,**scores):\n",
    "    print(x,y,z)\n",
    "    print(books)\n",
    "    print(scores)\n",
    "test(1,2,3,'iOS','C++','fk',cn = 89,mt = 90)#no '' of keyword"
   ]
  },
  {
   "cell_type": "code",
   "execution_count": 76,
   "metadata": {},
   "outputs": [
    {
     "name": "stdout",
     "output_type": "stream",
     "text": [
      "1\n",
      "(2, 3, 4)\n"
     ]
    }
   ],
   "source": [
    "def foo(name,*nums):\n",
    "    print(name)\n",
    "    print(nums)\n",
    "tu = (1,2,3,4)\n",
    "foo(name,*tu)#ffoo(*tu)"
   ]
  },
  {
   "cell_type": "code",
   "execution_count": 1,
   "metadata": {},
   "outputs": [
    {
     "name": "stdout",
     "output_type": "stream",
     "text": [
      "[1, 2]\n",
      "[2, 1]\n"
     ]
    }
   ],
   "source": [
    "def swap(a):\n",
    "    a[0],a[1] = a[1],a[0]\n",
    "    a = None\n",
    "a = [1,2]\n",
    "print(a)\n",
    "swap(a)\n",
    "print(a)"
   ]
  },
  {
   "cell_type": "code",
   "execution_count": 2,
   "metadata": {},
   "outputs": [
    {
     "name": "stdout",
     "output_type": "stream",
     "text": [
      "Help on dict object:\n",
      "\n",
      "class dict(object)\n",
      " |  dict() -> new empty dictionary\n",
      " |  dict(mapping) -> new dictionary initialized from a mapping object's\n",
      " |      (key, value) pairs\n",
      " |  dict(iterable) -> new dictionary initialized as if via:\n",
      " |      d = {}\n",
      " |      for k, v in iterable:\n",
      " |          d[k] = v\n",
      " |  dict(**kwargs) -> new dictionary initialized with the name=value pairs\n",
      " |      in the keyword argument list.  For example:  dict(one=1, two=2)\n",
      " |  \n",
      " |  Methods defined here:\n",
      " |  \n",
      " |  __contains__(self, key, /)\n",
      " |      True if the dictionary has the specified key, else False.\n",
      " |  \n",
      " |  __delitem__(self, key, /)\n",
      " |      Delete self[key].\n",
      " |  \n",
      " |  __eq__(self, value, /)\n",
      " |      Return self==value.\n",
      " |  \n",
      " |  __ge__(self, value, /)\n",
      " |      Return self>=value.\n",
      " |  \n",
      " |  __getattribute__(self, name, /)\n",
      " |      Return getattr(self, name).\n",
      " |  \n",
      " |  __getitem__(...)\n",
      " |      x.__getitem__(y) <==> x[y]\n",
      " |  \n",
      " |  __gt__(self, value, /)\n",
      " |      Return self>value.\n",
      " |  \n",
      " |  __init__(self, /, *args, **kwargs)\n",
      " |      Initialize self.  See help(type(self)) for accurate signature.\n",
      " |  \n",
      " |  __iter__(self, /)\n",
      " |      Implement iter(self).\n",
      " |  \n",
      " |  __le__(self, value, /)\n",
      " |      Return self<=value.\n",
      " |  \n",
      " |  __len__(self, /)\n",
      " |      Return len(self).\n",
      " |  \n",
      " |  __lt__(self, value, /)\n",
      " |      Return self<value.\n",
      " |  \n",
      " |  __ne__(self, value, /)\n",
      " |      Return self!=value.\n",
      " |  \n",
      " |  __repr__(self, /)\n",
      " |      Return repr(self).\n",
      " |  \n",
      " |  __setitem__(self, key, value, /)\n",
      " |      Set self[key] to value.\n",
      " |  \n",
      " |  __sizeof__(...)\n",
      " |      D.__sizeof__() -> size of D in memory, in bytes\n",
      " |  \n",
      " |  clear(...)\n",
      " |      D.clear() -> None.  Remove all items from D.\n",
      " |  \n",
      " |  copy(...)\n",
      " |      D.copy() -> a shallow copy of D\n",
      " |  \n",
      " |  get(self, key, default=None, /)\n",
      " |      Return the value for key if key is in the dictionary, else default.\n",
      " |  \n",
      " |  items(...)\n",
      " |      D.items() -> a set-like object providing a view on D's items\n",
      " |  \n",
      " |  keys(...)\n",
      " |      D.keys() -> a set-like object providing a view on D's keys\n",
      " |  \n",
      " |  pop(...)\n",
      " |      D.pop(k[,d]) -> v, remove specified key and return the corresponding value.\n",
      " |      If key is not found, d is returned if given, otherwise KeyError is raised\n",
      " |  \n",
      " |  popitem(...)\n",
      " |      D.popitem() -> (k, v), remove and return some (key, value) pair as a\n",
      " |      2-tuple; but raise KeyError if D is empty.\n",
      " |  \n",
      " |  setdefault(self, key, default=None, /)\n",
      " |      Insert key with a value of default if key is not in the dictionary.\n",
      " |      \n",
      " |      Return the value for key if key is in the dictionary, else default.\n",
      " |  \n",
      " |  update(...)\n",
      " |      D.update([E, ]**F) -> None.  Update D from dict/iterable E and F.\n",
      " |      If E is present and has a .keys() method, then does:  for k in E: D[k] = E[k]\n",
      " |      If E is present and lacks a .keys() method, then does:  for k, v in E: D[k] = v\n",
      " |      In either case, this is followed by: for k in F:  D[k] = F[k]\n",
      " |  \n",
      " |  values(...)\n",
      " |      D.values() -> an object providing a view on D's values\n",
      " |  \n",
      " |  ----------------------------------------------------------------------\n",
      " |  Class methods defined here:\n",
      " |  \n",
      " |  fromkeys(iterable, value=None, /) from builtins.type\n",
      " |      Create a new dictionary with keys from iterable and values set to value.\n",
      " |  \n",
      " |  ----------------------------------------------------------------------\n",
      " |  Static methods defined here:\n",
      " |  \n",
      " |  __new__(*args, **kwargs) from builtins.type\n",
      " |      Create and return a new object.  See help(type) for accurate signature.\n",
      " |  \n",
      " |  ----------------------------------------------------------------------\n",
      " |  Data and other attributes defined here:\n",
      " |  \n",
      " |  __hash__ = None\n",
      "\n"
     ]
    }
   ],
   "source": [
    "help(globals())"
   ]
  },
  {
   "cell_type": "code",
   "execution_count": 3,
   "metadata": {},
   "outputs": [
    {
     "name": "stdout",
     "output_type": "stream",
     "text": [
      "{'__name__': '__main__', '__doc__': 'Automatically created module for IPython interactive environment', '__package__': None, '__loader__': None, '__spec__': None, '__builtin__': <module 'builtins' (built-in)>, '__builtins__': <module 'builtins' (built-in)>, '_ih': ['', 'def swap(a):\\n    a[0],a[1] = a[1],a[0]\\n    a = None\\na = [1,2]\\nprint(a)\\nswap(a)\\nprint(a)', 'help(globals())', 'print(globals())'], '_oh': {}, '_dh': ['/Users/zforw/Desktop/Jupyter '], 'In': ['', 'def swap(a):\\n    a[0],a[1] = a[1],a[0]\\n    a = None\\na = [1,2]\\nprint(a)\\nswap(a)\\nprint(a)', 'help(globals())', 'print(globals())'], 'Out': {}, 'get_ipython': <bound method InteractiveShell.get_ipython of <ipykernel.zmqshell.ZMQInteractiveShell object at 0x7ffc48e97190>>, 'exit': <IPython.core.autocall.ZMQExitAutocall object at 0x7ffc48f09710>, 'quit': <IPython.core.autocall.ZMQExitAutocall object at 0x7ffc48f09710>, '_': '', '__': '', '___': '', '_i': 'help(globals())', '_ii': 'def swap(a):\\n    a[0],a[1] = a[1],a[0]\\n    a = None\\na = [1,2]\\nprint(a)\\nswap(a)\\nprint(a)', '_iii': '', '_i1': 'def swap(a):\\n    a[0],a[1] = a[1],a[0]\\n    a = None\\na = [1,2]\\nprint(a)\\nswap(a)\\nprint(a)', 'swap': <function swap at 0x7ffc48fb0050>, 'a': [2, 1], '_i2': 'help(globals())', '_i3': 'print(globals())'}\n"
     ]
    }
   ],
   "source": [
    "print(globals())"
   ]
  },
  {
   "cell_type": "code",
   "execution_count": 4,
   "metadata": {},
   "outputs": [
    {
     "name": "stdout",
     "output_type": "stream",
     "text": [
      "{'__name__': '__main__', '__doc__': 'Automatically created module for IPython interactive environment', '__package__': None, '__loader__': None, '__spec__': None, '__builtin__': <module 'builtins' (built-in)>, '__builtins__': <module 'builtins' (built-in)>, '_ih': ['', 'def swap(a):\\n    a[0],a[1] = a[1],a[0]\\n    a = None\\na = [1,2]\\nprint(a)\\nswap(a)\\nprint(a)', 'help(globals())', 'print(globals())', 'print(locals())'], '_oh': {}, '_dh': ['/Users/zforw/Desktop/Jupyter '], 'In': ['', 'def swap(a):\\n    a[0],a[1] = a[1],a[0]\\n    a = None\\na = [1,2]\\nprint(a)\\nswap(a)\\nprint(a)', 'help(globals())', 'print(globals())', 'print(locals())'], 'Out': {}, 'get_ipython': <bound method InteractiveShell.get_ipython of <ipykernel.zmqshell.ZMQInteractiveShell object at 0x7ffc48e97190>>, 'exit': <IPython.core.autocall.ZMQExitAutocall object at 0x7ffc48f09710>, 'quit': <IPython.core.autocall.ZMQExitAutocall object at 0x7ffc48f09710>, '_': '', '__': '', '___': '', '_i': 'print(globals())', '_ii': 'help(globals())', '_iii': 'def swap(a):\\n    a[0],a[1] = a[1],a[0]\\n    a = None\\na = [1,2]\\nprint(a)\\nswap(a)\\nprint(a)', '_i1': 'def swap(a):\\n    a[0],a[1] = a[1],a[0]\\n    a = None\\na = [1,2]\\nprint(a)\\nswap(a)\\nprint(a)', 'swap': <function swap at 0x7ffc48fb0050>, 'a': [2, 1], '_i2': 'help(globals())', '_i3': 'print(globals())', '_i4': 'print(locals())'}\n"
     ]
    }
   ],
   "source": [
    "print(locals())"
   ]
  },
  {
   "cell_type": "code",
   "execution_count": 16,
   "metadata": {},
   "outputs": [
    {
     "name": "stdout",
     "output_type": "stream",
     "text": [
      "Chole\n",
      "Black Widow\n"
     ]
    }
   ],
   "source": [
    "name = 'Chole'\n",
    "def rem():\n",
    "    print(globals()['name'])\n",
    "    name = 'ukon'\n",
    "rem()\n",
    "def foo():\n",
    "    nam = 'Black Widow'\n",
    "    def mar():\n",
    "        nonlocal nam\n",
    "        print(nam)\n",
    "        nam = 's'\n",
    "    mar()\n",
    "foo()"
   ]
  },
  {
   "cell_type": "code",
   "execution_count": 20,
   "metadata": {},
   "outputs": [
    {
     "name": "stdout",
     "output_type": "stream",
     "text": [
      "25\n"
     ]
    }
   ],
   "source": [
    "def get_math(type):\n",
    "    ans = 1\n",
    "    if type == 'square':\n",
    "        return lambda n : n*n\n",
    "    elif type == 'cube':\n",
    "        return lambda n : n*n*n\n",
    "    else:\n",
    "        return lambda n : (1 + n)*n/2\n",
    "math_func = get_math('square')\n",
    "print(math_func(5))"
   ]
  },
  {
   "cell_type": "code",
   "execution_count": 26,
   "metadata": {},
   "outputs": [
    {
     "name": "stdout",
     "output_type": "stream",
     "text": [
      "[0, 1, 4, 9, 16, 25, 36, 49]\n",
      "<map object at 0x7ffc47c952d0>\n",
      "[0, 0, 4, 0, 16, 0, 36, 0]\n"
     ]
    }
   ],
   "source": [
    "x = map(lambda x: x*x,range(8))\n",
    "print([e for e in x])\n",
    "print(x)\n",
    "y = map(lambda x: x*x if x % 2 == 0 else 0,range(8))\n",
    "print([e for e in y])"
   ]
  },
  {
   "cell_type": "code",
   "execution_count": 38,
   "metadata": {},
   "outputs": [
    {
     "name": "stdout",
     "output_type": "stream",
     "text": [
      "hi,I'm  Widow , 33  years old.\n",
      "info: <__main__.Person object at 0x7ffc47c87b10>\n",
      "contet: WTF?\n",
      "walkers join\n",
      "None\n"
     ]
    }
   ],
   "source": [
    "class Person:\n",
    "    hair = 'black'\n",
    "    def __init__(self,name,age):\n",
    "        self.name = name\n",
    "        self.age = age\n",
    "    def say_hi(self):\n",
    "        print(\"hi,I'm \",self.name,\",\",self.age,\" years old.\")\n",
    "p1 = Person('Widow','33')\n",
    "p1.say_hi()\n",
    "def info(self):\n",
    "    print(\"info:\",self)\n",
    "p1.fo1 = info\n",
    "p1.fo1(p1)\n",
    "\n",
    "def sf(self,content):\n",
    "    print(\"contet:\",content)\n",
    "from types import MethodType\n",
    "p1.sfo = MethodType(sf,p1)\n",
    "p1.sfo(\"WTF?\")\n",
    "\n",
    "class Dog:\n",
    "    def bark(self):\n",
    "        print(\"walkers join\")\n",
    "print(Dog.bark('tKoE'))"
   ]
  },
  {
   "cell_type": "code",
   "execution_count": 42,
   "metadata": {},
   "outputs": [
    {
     "name": "stdout",
     "output_type": "stream",
     "text": [
      "classmethod: <class '__main__.Bird'>\n",
      "dgfdsg\n"
     ]
    }
   ],
   "source": [
    "class Bird:\n",
    "    @classmethod\n",
    "    def tex(cls):\n",
    "        print(\"classmethod:\",cls)\n",
    "    \n",
    "    @staticmethod\n",
    "    def info(content):\n",
    "        print(\"staticmethod:\",content)\n",
    "        \n",
    "    def ste(content):\n",
    "        print(content)\n",
    "Bird.tex()\n",
    "Bird.ste(\"dgfdsg\")"
   ]
  },
  {
   "cell_type": "code",
   "execution_count": 42,
   "metadata": {},
   "outputs": [
    {
     "name": "stdout",
     "output_type": "stream",
     "text": [
      "10\n",
      "56\n",
      "12\n",
      "1\n",
      "99\n",
      "1000\n",
      "234\n",
      "33\n",
      "55\n",
      "99\n",
      "812\n",
      "3 2 7 8 1 4 9 6 10 5 291.90\n"
     ]
    },
    {
     "data": {
      "text/plain": [
       "'\\n10\\n56\\n12\\n1\\n99\\n1000\\n234\\n33\\n55\\n99\\n812\\n'"
      ]
     },
     "execution_count": 42,
     "metadata": {},
     "output_type": "execute_result"
    }
   ],
   "source": [
    "n = int(input())\n",
    "a = [(0,0),]\n",
    "ans = 0.0\n",
    "for i in range(1,n + 1):\n",
    "    t = int(input())\n",
    "    a.append((t,i))\n",
    "a.sort(key = lambda x:x[0],reverse = False)\n",
    "for i in range (1,n + 1):\n",
    "    print(\"%d \" % a[i][1],end = \"\")\n",
    "    ans += a[i][0]*(n-i)\n",
    "print(\"\\n%.2f\" % (ans/n))\n",
    "'''\n",
    "10\n",
    "56\n",
    "12\n",
    "1\n",
    "99\n",
    "1000\n",
    "234\n",
    "33\n",
    "55\n",
    "99\n",
    "812\n",
    "'''"
   ]
  },
  {
   "cell_type": "code",
   "execution_count": null,
   "metadata": {},
   "outputs": [],
   "source": [
    "def funA(fn): #必须要有函数作为位置参数\n",
    "    print(fn.__name__)\n",
    "    fn()\n",
    "    return 78\n",
    "\n",
    "@funA\n",
    "def funB():\n",
    "    print('B')\n",
    "\n",
    "print(funB)\n",
    "\n",
    "def MAX():\n",
    "    print('I\\'m Musk')\n",
    "\n",
    "print(MAX.__name__)"
   ]
  },
  {
   "cell_type": "code",
   "execution_count": null,
   "metadata": {},
   "outputs": [],
   "source": [
    "def foo(fn):\n",
    "    def bar(*args):\n",
    "        print(\"---1---\",args)\n",
    "        n = args[0]\n",
    "        print(\"---2---\",n*(n-1))\n",
    "        print(fn.__name__)\n",
    "        fn(n*(n-1))\n",
    "        print(\"*\"*15)\n",
    "        return fn(n*(n-1))\n",
    "    return bar\n",
    "'''\n",
    "below equals to foo(my_test)\n",
    "as foo() return bar\n",
    "so my_test is bar\n",
    "'''\n",
    "@foo\n",
    "def my_test(a):\n",
    "    print(\"---my_test---\",a)\n",
    "    #print my_test(),indeed what'll be shown is bar\n",
    "print(my_test) #<function foo.<locals>.bar at 0x7ff14b850200>\n",
    "my_test(10)\n",
    "my_test(6,5)"
   ]
  },
  {
   "cell_type": "code",
   "execution_count": 22,
   "metadata": {},
   "outputs": [
    {
     "name": "stdout",
     "output_type": "stream",
     "text": [
      "---simulate_check---\n",
      "next_line,a:10,b:20\n"
     ]
    }
   ],
   "source": [
    "#authority check\n",
    "def auth(fn):\n",
    "    def auth_fn(*args):\n",
    "        print(\"---simulate_check---\")\n",
    "        fn(*args)\n",
    "    return auth_fn\n",
    "\n",
    "@auth\n",
    "def test(a,b):\n",
    "    print('next_line,a:%s,b:%s' % (a,b))\n",
    "    \n",
    "test(10,20)"
   ]
  },
  {
   "cell_type": "code",
   "execution_count": 3,
   "metadata": {},
   "outputs": [
    {
     "name": "stdout",
     "output_type": "stream",
     "text": [
      "global sfs\n",
      "local <__main__.Item object at 0x7ff1a5720150>\n"
     ]
    }
   ],
   "source": [
    "global_fn = lambda x:print(\"global\",x)\n",
    "class Item:\n",
    "    local_fb = lambda x:print(\"local\",x)\n",
    "global_fn(\"sfs\")\n",
    "c = Item()\n",
    "c.local_fb()"
   ]
  },
  {
   "cell_type": "code",
   "execution_count": 38,
   "metadata": {},
   "outputs": [
    {
     "name": "stdout",
     "output_type": "stream",
     "text": [
      "Info about city\n",
      "Help on property:\n",
      "\n",
      "    Info about city\n",
      "\n",
      "Shanghai    24242\n",
      "guangdong\n",
      "guangdong    510660\n"
     ]
    }
   ],
   "source": [
    "#使用property修饰类的属性\n",
    "\n",
    "class Address:\n",
    "    def __init__(self,loca,code):\n",
    "        self.location = loca\n",
    "        self.post_code = code\n",
    "        \n",
    "    def set_info(self,info):\n",
    "        self.location,self.post_code = info\n",
    "    def get_info(self):\n",
    "        print(self.location,\"  \",self.post_code)\n",
    "    def del_info(self):\n",
    "        self.location,self.post_code = \"guangdong\",510660\n",
    "    info = property(get_info,set_info,del_info,'Info about city')\n",
    "        \n",
    "addr = Address(\"Shanghai\",24242)\n",
    "\n",
    "print(Address.info.__doc__)\n",
    "help(Address.info)\n",
    "addr.info\n",
    "del addr.info\n",
    "print(addr.location)\n",
    "addr.info"
   ]
  },
  {
   "cell_type": "code",
   "execution_count": 44,
   "metadata": {},
   "outputs": [
    {
     "name": "stdout",
     "output_type": "stream",
     "text": [
      "alive\n",
      "False\n",
      "dead\n"
     ]
    }
   ],
   "source": [
    "#使用@property修饰方法\n",
    "\n",
    "class Cell:\n",
    "    _state = None\n",
    "    '''\n",
    "    相当于为该属性设置get方法\n",
    "    '''\n",
    "    @property\n",
    "    def state(self):\n",
    "        return self._state\n",
    "    @state.setter\n",
    "    def state(self,val):\n",
    "        if 'alive' in val.lower():\n",
    "            self._state = 'alive'\n",
    "        else:\n",
    "            self._state = 'dead'\n",
    "            \n",
    "    #为is_dead方法设置getter方法，只有getter方法的属性是只读属性\n",
    "    @property\n",
    "    def is_dead(self):\n",
    "        return not self._state == 'alive'\n",
    "c = Cell()\n",
    "c.state = 'Alive'\n",
    "Cell._state = 'dead'\n",
    "print(c.state)\n",
    "print(c.is_dead)\n",
    "print(Cell._state)"
   ]
  },
  {
   "cell_type": "code",
   "execution_count": 58,
   "metadata": {},
   "outputs": [
    {
     "name": "stdout",
     "output_type": "stream",
     "text": [
      "kfc 57\n",
      "hide\n",
      "McDonald\n"
     ]
    }
   ],
   "source": [
    "class User:\n",
    "    def __hide(self):\n",
    "        print('hide')\n",
    "    def getName(self):\n",
    "        return self.__name\n",
    "    def setName(self,name):\n",
    "        if len(name) < 3 or len(name) > 8:\n",
    "            raise ValueError('name : 3 ~ 8')\n",
    "        self.__name = name\n",
    "    name = property(getName,setName)\n",
    "    def setAge(self,age):\n",
    "        if age < 18 or age > 70:\n",
    "            raise ValueError('age : 18 ~ 70')\n",
    "        self.__age = age\n",
    "    def getAge(self):\n",
    "        return self.__age\n",
    "    age = property(getAge,setAge)\n",
    "\n",
    "u = User()\n",
    "u.name = 'kfc'\n",
    "u.age = 57\n",
    "print(u.name,u.age)\n",
    "u._User__hide()\n",
    "u._User__name = 'McDonald'\n",
    "print(u.name)"
   ]
  },
  {
   "cell_type": "code",
   "execution_count": 8,
   "metadata": {},
   "outputs": [
    {
     "name": "stdout",
     "output_type": "stream",
     "text": [
      "A animal\n",
      "I'm a Dog,I can run\n"
     ]
    }
   ],
   "source": [
    "class Animal:\n",
    "    def info(self):\n",
    "        print(\"A animal\")\n",
    "    def run(self):\n",
    "        print(\"Not every animal can run\")\n",
    "class Creeper:\n",
    "    def info(self):\n",
    "        print(\"different animal\")\n",
    "    \n",
    "class Dog(Animal,Creeper):\n",
    "    def run(self):\n",
    "        print(\"I'm a Dog,I can run\")\n",
    "\n",
    "a = Dog()\n",
    "a.weight = 55.0\n",
    "a.info() #第一个优先\n",
    "a.run()"
   ]
  },
  {
   "cell_type": "code",
   "execution_count": 11,
   "metadata": {},
   "outputs": [
    {
     "name": "stdout",
     "output_type": "stream",
     "text": [
      "wolf!wolf!\n",
      "son of *\n",
      "I'm your father\n"
     ]
    }
   ],
   "source": [
    "class BaseClass:\n",
    "    def foo(self):\n",
    "        print(\"I'm your father\")\n",
    "\n",
    "class SubClass(BaseClass):\n",
    "    def foo(self):\n",
    "        print(\"son of *\")\n",
    "    def bark(self):\n",
    "        print(\"wolf!wolf!\")\n",
    "        self.foo()\n",
    "        BaseClass.foo(self)#需要显式绑定一个参数\n",
    "\n",
    "a = SubClass()\n",
    "a.bark()"
   ]
  },
  {
   "cell_type": "code",
   "execution_count": 12,
   "metadata": {},
   "outputs": [
    {
     "name": "stdout",
     "output_type": "stream",
     "text": [
      "a programmar is coding,and salary is  2500\n"
     ]
    }
   ],
   "source": [
    "#super\n",
    "\n",
    "class Employee:\n",
    "    def __init__(self,salary):\n",
    "        self.salary = salary\n",
    "    def work(self):\n",
    "        print(\"a programmar is coding,and salary is \",self.salary)\n",
    "class Customer:\n",
    "    def __init__(self,fav,addr):\n",
    "        self.favorite = fav\n",
    "        self.address = addr\n",
    "    def info(self):\n",
    "        print(\"a customer ,loves \",self.favorite,\",lives at \",self.address)\n",
    "class Manager(Employee,Customer):\n",
    "    pass\n",
    "\n",
    "l = Manager(2500)\n",
    "l.work()"
   ]
  },
  {
   "cell_type": "code",
   "execution_count": 17,
   "metadata": {},
   "outputs": [
    {
     "name": "stdout",
     "output_type": "stream",
     "text": [
      "--Manager construct function--\n",
      "a programmar is coding,and salary is  40000\n",
      "a customer ,loves  IT product ,lives at  Xi'an\n"
     ]
    }
   ],
   "source": [
    "class Manager(Employee,Customer):\n",
    "    def __init__(self,salary,fav,addr):\n",
    "        print(\"--Manager construct function--\")\n",
    "        super().__init__(salary)\n",
    "#        super(Manager,self).__init__(salary)   --> super(type,obj)\n",
    "        Customer.__init__(self,fav,addr)  #第一个优先\n",
    "#        super().__init__(fav,addr) TypeError: __init__() takes 2 positional arguments but 3 were given\n",
    "m = Manager(40000,\"IT product\",\"Xi'an\")\n",
    "m.work()\n",
    "m.info()"
   ]
  },
  {
   "cell_type": "code",
   "execution_count": null,
   "metadata": {},
   "outputs": [],
   "source": []
  },
  {
   "cell_type": "code",
   "execution_count": null,
   "metadata": {},
   "outputs": [],
   "source": []
  },
  {
   "cell_type": "code",
   "execution_count": 4,
   "metadata": {},
   "outputs": [
    {
     "name": "stdout",
     "output_type": "stream",
     "text": [
      "foo\n"
     ]
    }
   ],
   "source": [
    "import re\n",
    "m = re.search('foo','lfoolish')\n",
    "if m is not None:\n",
    "    print(m.group())"
   ]
  },
  {
   "cell_type": "code",
   "execution_count": 52,
   "metadata": {},
   "outputs": [
    {
     "name": "stdout",
     "output_type": "stream",
     "text": [
      "bat\n",
      "bit\n"
     ]
    }
   ],
   "source": [
    "bt = 'bat|bet|bit'\n",
    "m = re.match(bt,'bat')\n",
    "if m is not None:\n",
    "    print(m.group())\n",
    "\n",
    "m = re.match(bt,'blt')\n",
    "if m is not None:\n",
    "    print(m.group())\n",
    "\n",
    "m = re.search(bt,'He bit me')\n",
    "if m is not None:\n",
    "    print(m.group())"
   ]
  },
  {
   "cell_type": "code",
   "execution_count": 57,
   "metadata": {},
   "outputs": [
    {
     "name": "stdout",
     "output_type": "stream",
     "text": [
      "match b\n",
      "match' 'end\n",
      "3.14\n",
      "3014\n",
      "3.14\n"
     ]
    }
   ],
   "source": [
    "anyend = '.end'\n",
    "m = re.match(anyend,'bend')\n",
    "if m is not None:\n",
    "    print('match b')\n",
    "m = re.match(anyend,'end')\n",
    "if m is not None:\n",
    "    print('match end')\n",
    "m = re.match(anyend,'\\nend')\n",
    "if m is not None:\n",
    "    print('match \\\\n')\n",
    "m = re.search(anyend,'The end')\n",
    "if m is not None:\n",
    "    print('match\\' \\'end')\n",
    "\n",
    "patt = '3.14' #正则表达式的点\n",
    "pi = '3\\.14'  #字面的点\n",
    "m = re.match(pi,'3.14') #显示匹配点\n",
    "if m is not None:\n",
    "    print(m.group())\n",
    "m = re.match(patt,'3014') #dot match '0'\n",
    "if m is not None:\n",
    "    print(m.group())\n",
    "m = re.match(patt,'3.14') #dot match '.'\n",
    "if m is not None:\n",
    "    print(m.group())"
   ]
  },
  {
   "cell_type": "code",
   "execution_count": 58,
   "metadata": {},
   "outputs": [
    {
     "name": "stdout",
     "output_type": "stream",
     "text": [
      "c3po\n",
      "c2do\n",
      "r2d2\n"
     ]
    }
   ],
   "source": [
    "m = re.match('[cr][23][dp][o2]','c3po')\n",
    "if m is not None:\n",
    "    print(m.group())\n",
    "m = re.match('[cr][23][dp][o2]','c2do')\n",
    "if m is not None:\n",
    "    print(m.group())\n",
    "m = re.match('r2d2|c3po','c2do')\n",
    "if m is not None:\n",
    "    print(m.group())\n",
    "m = re.match('r2d2|c3po','r2d2')\n",
    "if m is not None:\n",
    "    print(m.group())"
   ]
  },
  {
   "cell_type": "code",
   "execution_count": 72,
   "metadata": {},
   "outputs": [
    {
     "name": "stdout",
     "output_type": "stream",
     "text": [
      "zforw@hotmail.com\n",
      "888-999-1110\n",
      "345.00\n",
      "gos\n",
      "Mr.Zforw\n",
      "Mr.Zforw-Walker\n"
     ]
    }
   ],
   "source": [
    "'''\n",
    "e-mail: \\w+@\\w+\\.com  --->  xxx@yyy.com\n",
    "'''\n",
    "m = re.match('\\w+@\\w+\\.com','zforw@hotmail.com')\n",
    "if m is not None:\n",
    "    print(m.group())\n",
    "m = re.match('\\d{3}-\\d{3}-\\d{4}','888-999-1110')\n",
    "if m is not None:\n",
    "    print(m.group())\n",
    "m = re.match('\\d+(\\.\\d*)?','345.00')\n",
    "if m is not None:\n",
    "    print(m.group())\n",
    "m = re.match('goe?s','s')\n",
    "if m is not None:\n",
    "    print(m.group())\n",
    "m = re.match('goe?s','gos')\n",
    "if m is not None:\n",
    "    print(m.group())\n",
    "m = re.match('(Mr?s?\\.)?[A-Z][a-z]*[A-Za-z]+','Mr.Zforw-Walker')\n",
    "if m is not None:\n",
    "    print(m.group())\n",
    "m = re.match('(Mr?s?\\.)?[A-Z][a-z]*[A-Za-z-]+','Mr.Zforw-Walker')\n",
    "if m is not None:\n",
    "    print(m.group())\n",
    "#control + Enter"
   ]
  },
  {
   "cell_type": "code",
   "execution_count": 9,
   "metadata": {},
   "outputs": [
    {
     "name": "stdout",
     "output_type": "stream",
     "text": [
      "abc-123\n",
      "nobody@xxx.yyy.com\n",
      "abc-123\n",
      "abc\n",
      "123\n",
      "('abc', '123')\n",
      "ab\n",
      "ab\n",
      "b\n",
      "('ab', 'b')\n"
     ]
    }
   ],
   "source": [
    "m = re.match('\\w\\w\\w-\\d\\d\\d','abc-123')\n",
    "if m is not None:\n",
    "    print(m.group())\n",
    "m = re.match('\\w+@(\\w+\\.)?\\w+\\.com','nobody@xxx.yyy.com')\n",
    "if m is not None:\n",
    "    print(m.group())\n",
    "m = re.match('(\\w\\w\\w)-(\\d\\d\\d)','abc-123')\n",
    "if m is not None:\n",
    "    print(m.group())\n",
    "print(m.group(1))\n",
    "print(m.group(2))\n",
    "print(m.groups())\n",
    "\n",
    "m = re.match('(a(b))','ab')\n",
    "if m is not None:\n",
    "    print(m.group())\n",
    "print(m.group(1))\n",
    "print(m.group(2))\n",
    "print(m.groups())"
   ]
  },
  {
   "cell_type": "code",
   "execution_count": 16,
   "metadata": {},
   "outputs": [
    {
     "name": "stdout",
     "output_type": "stream",
     "text": [
      "The\n",
      "the\n"
     ]
    }
   ],
   "source": [
    "m = re.search('^The','The end.')\n",
    "if m is not None:\n",
    "    print(m.group())\n",
    "m = re.search('^The','end. The')\n",
    "if m is not None:\n",
    "    print(m.group())\n",
    "m = re.search(r'\\bthe','bitethe dog') #r:防止字符转义\n",
    "if m is not None:\n",
    "    print(m.group())\n",
    "m = re.search(r'\\Bthe','bitethe dog')\n",
    "if m is not None:\n",
    "    print(m.group())"
   ]
  },
  {
   "cell_type": "code",
   "execution_count": 1,
   "metadata": {},
   "outputs": [
    {
     "name": "stdout",
     "output_type": "stream",
     "text": [
      "['Palo Alto', 'CA']\n",
      "['Los Altos', '94023']\n",
      "['Cupertino', '95014']\n",
      "['Sunnyvale', 'CA']\n",
      "['Mountain View', 'CA', '94040']\n"
     ]
    }
   ],
   "source": [
    "import re\n",
    "DATA = {\n",
    "    'Mountain View, CA 94040',\n",
    "    'Sunnyvale, CA',\n",
    "    'Los Altos, 94023',\n",
    "    'Cupertino 95014',\n",
    "    'Palo Alto CA',\n",
    "}\n",
    "for datum in DATA:\n",
    "    print(re.split(', |(?= (?:\\d{5}|[A-Z]{2})) ',datum))\n"
   ]
  },
  {
   "cell_type": "code",
   "execution_count": 5,
   "metadata": {},
   "outputs": [
    {
     "name": "stdout",
     "output_type": "stream",
     "text": [
      "Thu\n",
      "('u',)\n"
     ]
    }
   ],
   "source": [
    "pdd = 'Thu Feb'\n",
    "import re\n",
    "m = re.match('^(\\w){3}',pdd)\n",
    "if m is not None:\n",
    "    print(m.group())\n",
    "print(m.groups())"
   ]
  },
  {
   "cell_type": "code",
   "execution_count": 30,
   "metadata": {},
   "outputs": [
    {
     "name": "stdout",
     "output_type": "stream",
     "text": [
      "('6',)\n"
     ]
    }
   ],
   "source": [
    "pdd = 'Tue May 12 14:52:23 1970::bfgier@okdwwualj.gov::11343143-6-9'\n",
    "m = re.search('-(\\d)-',pdd)\n",
    "if m is not None:\n",
    "    print(m.groups())"
   ]
  },
  {
   "cell_type": "code",
   "execution_count": null,
   "metadata": {},
   "outputs": [],
   "source": []
  }
 ],
 "metadata": {
  "kernelspec": {
   "display_name": "Python 3",
   "language": "python",
   "name": "python3"
  },
  "language_info": {
   "codemirror_mode": {
    "name": "ipython",
    "version": 3
   },
   "file_extension": ".py",
   "mimetype": "text/x-python",
   "name": "python",
   "nbconvert_exporter": "python",
   "pygments_lexer": "ipython3",
   "version": "3.7.6"
  }
 },
 "nbformat": 4,
 "nbformat_minor": 4
}
